{
 "cells": [
  {
   "cell_type": "markdown",
   "metadata": {},
   "source": [
    "# Análisis de índices y sectores\n",
    "\n",
    "Es posible resumir el rendimiento de distintos segmentos del mercado de acciones mediante la creación de **índices**: portafolios hipotéticos formados por una gran cantidad de activos. El cálculo del valor de los índices se calcula a partir de la evolución de los precios de sus constituyentes. Esto es muy útil para las personas que invierten, ya que les da una idea general de la *salud del mercado* y además permite hacer comparaciones con sus estrategias de inversión (está acción se denomina *benchmarking*).\n",
    "\n",
    "Los 3 índices de acciones de Estados Unidos más conocidos son:\n",
    "- Dow Jones Industrial Average (DJIA),\n",
    "- S&P 500 Index y\n",
    "- Nasdaq Composite Index.\n",
    "\n",
    "## El Índice S&P 500\n",
    "El *Standard and Poor's 500 Index* es un índice compuesto por las 500 empresas públicas con mayor capitalización de mercado de EE.UU. La capitalización de mercado (market cap) es el valor total de mercado que tienen la totalidad de las acciones de una compañía, lo que nos da una idea rápida del tamaño de la misma (solamente necesitamos multiplicar el valor de su acción por la cantidad de acciones existentes). En [este link](https://www.investopedia.com/top-10-s-and-p-500-stocks-by-index-weight-4843111) pueden ver cuáles son las 10 empresas top en el S&P500 al 4 de junio de 2021.\n",
    "\n",
    "No siempre es posible invertir directamente en un índice, pero existen numerosas compañías que crean Fondos de Inversión que se dedican a seguir estos índices y es posible que las personas inviertan en ellos. Este tipo de instrumentos es muy importante porque le permite a los pequeños inversores diversificar su cartera de inversiones sin tener una cantidad enorme de dinero para comprar acciones de todas las empresas que componen los índices. En EE.UU, estos tipos de fondos son llamados Exchange Traded Funds (ETFs) y son un poco similares a los Fondos Comunes de Inversión locales (FCI). El ETF más conocido para invertir en el S&P500 es el SPDR S&P 500 ETF (su ticker es **SPY**) y lo podemos seguir en nuestro DataReader."
   ]
  },
  {
   "cell_type": "code",
   "execution_count": 1,
   "metadata": {},
   "outputs": [],
   "source": [
    "import pandas as pd\n",
    "from pandas_datareader import data\n",
    "import matplotlib.pyplot as plt\n",
    "import yfinance as yf # Agrego esto # pip install yfinance --upgrade --no-cache-dir\n",
    "import numpy as np # Agrego esto\n",
    "import seaborn as sns"
   ]
  },
  {
   "cell_type": "code",
   "execution_count": 2,
   "metadata": {},
   "outputs": [
    {
     "name": "stdout",
     "output_type": "stream",
     "text": [
      "[*********************100%***********************]  1 of 1 completed\n"
     ]
    },
    {
     "data": {
      "text/html": [
       "<div>\n",
       "<style scoped>\n",
       "    .dataframe tbody tr th:only-of-type {\n",
       "        vertical-align: middle;\n",
       "    }\n",
       "\n",
       "    .dataframe tbody tr th {\n",
       "        vertical-align: top;\n",
       "    }\n",
       "\n",
       "    .dataframe thead th {\n",
       "        text-align: right;\n",
       "    }\n",
       "</style>\n",
       "<table border=\"1\" class=\"dataframe\">\n",
       "  <thead>\n",
       "    <tr style=\"text-align: right;\">\n",
       "      <th></th>\n",
       "      <th>Open</th>\n",
       "      <th>High</th>\n",
       "      <th>Low</th>\n",
       "      <th>Close</th>\n",
       "      <th>Adj Close</th>\n",
       "      <th>Volume</th>\n",
       "    </tr>\n",
       "    <tr>\n",
       "      <th>Date</th>\n",
       "      <th></th>\n",
       "      <th></th>\n",
       "      <th></th>\n",
       "      <th></th>\n",
       "      <th></th>\n",
       "      <th></th>\n",
       "    </tr>\n",
       "  </thead>\n",
       "  <tbody>\n",
       "    <tr>\n",
       "      <th>2000-01-03</th>\n",
       "      <td>148.250000</td>\n",
       "      <td>148.250000</td>\n",
       "      <td>143.875000</td>\n",
       "      <td>145.437500</td>\n",
       "      <td>97.506668</td>\n",
       "      <td>8164300</td>\n",
       "    </tr>\n",
       "    <tr>\n",
       "      <th>2000-01-04</th>\n",
       "      <td>143.531250</td>\n",
       "      <td>144.062500</td>\n",
       "      <td>139.640625</td>\n",
       "      <td>139.750000</td>\n",
       "      <td>93.693573</td>\n",
       "      <td>8089800</td>\n",
       "    </tr>\n",
       "    <tr>\n",
       "      <th>2000-01-05</th>\n",
       "      <td>139.937500</td>\n",
       "      <td>141.531250</td>\n",
       "      <td>137.250000</td>\n",
       "      <td>140.000000</td>\n",
       "      <td>93.861176</td>\n",
       "      <td>12177900</td>\n",
       "    </tr>\n",
       "    <tr>\n",
       "      <th>2000-01-06</th>\n",
       "      <td>139.625000</td>\n",
       "      <td>141.500000</td>\n",
       "      <td>137.750000</td>\n",
       "      <td>137.750000</td>\n",
       "      <td>92.352676</td>\n",
       "      <td>6227200</td>\n",
       "    </tr>\n",
       "    <tr>\n",
       "      <th>2000-01-07</th>\n",
       "      <td>140.312500</td>\n",
       "      <td>145.750000</td>\n",
       "      <td>140.062500</td>\n",
       "      <td>145.750000</td>\n",
       "      <td>97.716209</td>\n",
       "      <td>8066500</td>\n",
       "    </tr>\n",
       "    <tr>\n",
       "      <th>...</th>\n",
       "      <td>...</td>\n",
       "      <td>...</td>\n",
       "      <td>...</td>\n",
       "      <td>...</td>\n",
       "      <td>...</td>\n",
       "      <td>...</td>\n",
       "    </tr>\n",
       "    <tr>\n",
       "      <th>2021-05-27</th>\n",
       "      <td>420.170013</td>\n",
       "      <td>420.720001</td>\n",
       "      <td>418.989990</td>\n",
       "      <td>419.290009</td>\n",
       "      <td>417.922729</td>\n",
       "      <td>56707700</td>\n",
       "    </tr>\n",
       "    <tr>\n",
       "      <th>2021-05-28</th>\n",
       "      <td>420.970001</td>\n",
       "      <td>421.250000</td>\n",
       "      <td>419.790009</td>\n",
       "      <td>420.040009</td>\n",
       "      <td>418.670288</td>\n",
       "      <td>58520200</td>\n",
       "    </tr>\n",
       "    <tr>\n",
       "      <th>2021-06-01</th>\n",
       "      <td>422.570007</td>\n",
       "      <td>422.720001</td>\n",
       "      <td>419.200012</td>\n",
       "      <td>419.670013</td>\n",
       "      <td>418.301514</td>\n",
       "      <td>54216600</td>\n",
       "    </tr>\n",
       "    <tr>\n",
       "      <th>2021-06-02</th>\n",
       "      <td>420.369995</td>\n",
       "      <td>421.230011</td>\n",
       "      <td>419.290009</td>\n",
       "      <td>420.329987</td>\n",
       "      <td>418.959320</td>\n",
       "      <td>49097100</td>\n",
       "    </tr>\n",
       "    <tr>\n",
       "      <th>2021-06-03</th>\n",
       "      <td>417.850006</td>\n",
       "      <td>419.989990</td>\n",
       "      <td>416.279999</td>\n",
       "      <td>418.769989</td>\n",
       "      <td>417.404419</td>\n",
       "      <td>58138800</td>\n",
       "    </tr>\n",
       "  </tbody>\n",
       "</table>\n",
       "<p>5389 rows × 6 columns</p>\n",
       "</div>"
      ],
      "text/plain": [
       "                  Open        High         Low       Close   Adj Close  \\\n",
       "Date                                                                     \n",
       "2000-01-03  148.250000  148.250000  143.875000  145.437500   97.506668   \n",
       "2000-01-04  143.531250  144.062500  139.640625  139.750000   93.693573   \n",
       "2000-01-05  139.937500  141.531250  137.250000  140.000000   93.861176   \n",
       "2000-01-06  139.625000  141.500000  137.750000  137.750000   92.352676   \n",
       "2000-01-07  140.312500  145.750000  140.062500  145.750000   97.716209   \n",
       "...                ...         ...         ...         ...         ...   \n",
       "2021-05-27  420.170013  420.720001  418.989990  419.290009  417.922729   \n",
       "2021-05-28  420.970001  421.250000  419.790009  420.040009  418.670288   \n",
       "2021-06-01  422.570007  422.720001  419.200012  419.670013  418.301514   \n",
       "2021-06-02  420.369995  421.230011  419.290009  420.329987  418.959320   \n",
       "2021-06-03  417.850006  419.989990  416.279999  418.769989  417.404419   \n",
       "\n",
       "              Volume  \n",
       "Date                  \n",
       "2000-01-03   8164300  \n",
       "2000-01-04   8089800  \n",
       "2000-01-05  12177900  \n",
       "2000-01-06   6227200  \n",
       "2000-01-07   8066500  \n",
       "...              ...  \n",
       "2021-05-27  56707700  \n",
       "2021-05-28  58520200  \n",
       "2021-06-01  54216600  \n",
       "2021-06-02  49097100  \n",
       "2021-06-03  58138800  \n",
       "\n",
       "[5389 rows x 6 columns]"
      ]
     },
     "execution_count": 2,
     "metadata": {},
     "output_type": "execute_result"
    }
   ],
   "source": [
    "#------Desestimo lo de arriba porque no corre---------------\n",
    "# tickers = ['SPY']\n",
    "\n",
    "# start_date = '2000-01-01'\n",
    "# end_date = '2020-12-31'\n",
    "\n",
    "# data.DataReader(\n",
    "#     tickers,\n",
    "#     start=start_date, \n",
    "#     end=end_date, \n",
    "#     data_source='yahoo',\n",
    "# )[\"Adj Close\"].plot(figsize=(16,9))\n",
    "#------Desestimo lo de arriba porque no corre---------------\n",
    "\n",
    "yf.pdr_override()\n",
    "\n",
    "# download dataframe\n",
    "start_date = \"2000-01-01\"\n",
    "end_date = \"2021-06-04\"\n",
    "data_spy = data.get_data_yahoo(\"SPY\", start=start_date, end=end_date)\n",
    "# data_spy.head()\n",
    "# data_spy['Adj Close'].plot(figsize=(16,9))\n",
    "data_spy"
   ]
  },
  {
   "cell_type": "markdown",
   "metadata": {},
   "source": [
    "# Qué acciones componen actualmente al S&P500?\n",
    "\n",
    "Es posible conseguir la lista de constituyentes del S&P500 desde Wikipedia: https://en.wikipedia.org/wiki/List_of_S%26P_500_companies. Pero también podemos obtener esta tabla directamente con Pandas!"
   ]
  },
  {
   "cell_type": "code",
   "execution_count": 3,
   "metadata": {},
   "outputs": [
    {
     "data": {
      "text/html": [
       "<div>\n",
       "<style scoped>\n",
       "    .dataframe tbody tr th:only-of-type {\n",
       "        vertical-align: middle;\n",
       "    }\n",
       "\n",
       "    .dataframe tbody tr th {\n",
       "        vertical-align: top;\n",
       "    }\n",
       "\n",
       "    .dataframe thead th {\n",
       "        text-align: right;\n",
       "    }\n",
       "</style>\n",
       "<table border=\"1\" class=\"dataframe\">\n",
       "  <thead>\n",
       "    <tr style=\"text-align: right;\">\n",
       "      <th></th>\n",
       "      <th>Symbol</th>\n",
       "      <th>Security</th>\n",
       "      <th>SEC filings</th>\n",
       "      <th>GICS Sector</th>\n",
       "      <th>GICS Sub-Industry</th>\n",
       "      <th>Headquarters Location</th>\n",
       "      <th>Date first added</th>\n",
       "      <th>CIK</th>\n",
       "      <th>Founded</th>\n",
       "    </tr>\n",
       "  </thead>\n",
       "  <tbody>\n",
       "    <tr>\n",
       "      <th>0</th>\n",
       "      <td>MMM</td>\n",
       "      <td>3M</td>\n",
       "      <td>reports</td>\n",
       "      <td>Industrials</td>\n",
       "      <td>Industrial Conglomerates</td>\n",
       "      <td>Saint Paul, Minnesota</td>\n",
       "      <td>1976-08-09</td>\n",
       "      <td>66740</td>\n",
       "      <td>1902</td>\n",
       "    </tr>\n",
       "    <tr>\n",
       "      <th>1</th>\n",
       "      <td>ABT</td>\n",
       "      <td>Abbott Laboratories</td>\n",
       "      <td>reports</td>\n",
       "      <td>Health Care</td>\n",
       "      <td>Health Care Equipment</td>\n",
       "      <td>North Chicago, Illinois</td>\n",
       "      <td>1964-03-31</td>\n",
       "      <td>1800</td>\n",
       "      <td>1888</td>\n",
       "    </tr>\n",
       "    <tr>\n",
       "      <th>2</th>\n",
       "      <td>ABBV</td>\n",
       "      <td>AbbVie</td>\n",
       "      <td>reports</td>\n",
       "      <td>Health Care</td>\n",
       "      <td>Pharmaceuticals</td>\n",
       "      <td>North Chicago, Illinois</td>\n",
       "      <td>2012-12-31</td>\n",
       "      <td>1551152</td>\n",
       "      <td>2013 (1888)</td>\n",
       "    </tr>\n",
       "    <tr>\n",
       "      <th>3</th>\n",
       "      <td>ABMD</td>\n",
       "      <td>Abiomed</td>\n",
       "      <td>reports</td>\n",
       "      <td>Health Care</td>\n",
       "      <td>Health Care Equipment</td>\n",
       "      <td>Danvers, Massachusetts</td>\n",
       "      <td>2018-05-31</td>\n",
       "      <td>815094</td>\n",
       "      <td>1981</td>\n",
       "    </tr>\n",
       "    <tr>\n",
       "      <th>4</th>\n",
       "      <td>ACN</td>\n",
       "      <td>Accenture</td>\n",
       "      <td>reports</td>\n",
       "      <td>Information Technology</td>\n",
       "      <td>IT Consulting &amp; Other Services</td>\n",
       "      <td>Chicago, Illinois</td>\n",
       "      <td>2011-07-06</td>\n",
       "      <td>1467373</td>\n",
       "      <td>1989</td>\n",
       "    </tr>\n",
       "    <tr>\n",
       "      <th>...</th>\n",
       "      <td>...</td>\n",
       "      <td>...</td>\n",
       "      <td>...</td>\n",
       "      <td>...</td>\n",
       "      <td>...</td>\n",
       "      <td>...</td>\n",
       "      <td>...</td>\n",
       "      <td>...</td>\n",
       "      <td>...</td>\n",
       "    </tr>\n",
       "    <tr>\n",
       "      <th>500</th>\n",
       "      <td>YUM</td>\n",
       "      <td>Yum! Brands</td>\n",
       "      <td>reports</td>\n",
       "      <td>Consumer Discretionary</td>\n",
       "      <td>Restaurants</td>\n",
       "      <td>Louisville, Kentucky</td>\n",
       "      <td>1997-10-06</td>\n",
       "      <td>1041061</td>\n",
       "      <td>1997</td>\n",
       "    </tr>\n",
       "    <tr>\n",
       "      <th>501</th>\n",
       "      <td>ZBRA</td>\n",
       "      <td>Zebra Technologies</td>\n",
       "      <td>reports</td>\n",
       "      <td>Information Technology</td>\n",
       "      <td>Electronic Equipment &amp; Instruments</td>\n",
       "      <td>Lincolnshire, Illinois</td>\n",
       "      <td>2019-12-23</td>\n",
       "      <td>877212</td>\n",
       "      <td>1969</td>\n",
       "    </tr>\n",
       "    <tr>\n",
       "      <th>502</th>\n",
       "      <td>ZBH</td>\n",
       "      <td>Zimmer Biomet</td>\n",
       "      <td>reports</td>\n",
       "      <td>Health Care</td>\n",
       "      <td>Health Care Equipment</td>\n",
       "      <td>Warsaw, Indiana</td>\n",
       "      <td>2001-08-07</td>\n",
       "      <td>1136869</td>\n",
       "      <td>1927</td>\n",
       "    </tr>\n",
       "    <tr>\n",
       "      <th>503</th>\n",
       "      <td>ZION</td>\n",
       "      <td>Zions Bancorp</td>\n",
       "      <td>reports</td>\n",
       "      <td>Financials</td>\n",
       "      <td>Regional Banks</td>\n",
       "      <td>Salt Lake City, Utah</td>\n",
       "      <td>2001-06-22</td>\n",
       "      <td>109380</td>\n",
       "      <td>1873</td>\n",
       "    </tr>\n",
       "    <tr>\n",
       "      <th>504</th>\n",
       "      <td>ZTS</td>\n",
       "      <td>Zoetis</td>\n",
       "      <td>reports</td>\n",
       "      <td>Health Care</td>\n",
       "      <td>Pharmaceuticals</td>\n",
       "      <td>Parsippany, New Jersey</td>\n",
       "      <td>2013-06-21</td>\n",
       "      <td>1555280</td>\n",
       "      <td>1952</td>\n",
       "    </tr>\n",
       "  </tbody>\n",
       "</table>\n",
       "<p>505 rows × 9 columns</p>\n",
       "</div>"
      ],
      "text/plain": [
       "    Symbol             Security SEC filings             GICS Sector  \\\n",
       "0      MMM                   3M     reports             Industrials   \n",
       "1      ABT  Abbott Laboratories     reports             Health Care   \n",
       "2     ABBV               AbbVie     reports             Health Care   \n",
       "3     ABMD              Abiomed     reports             Health Care   \n",
       "4      ACN            Accenture     reports  Information Technology   \n",
       "..     ...                  ...         ...                     ...   \n",
       "500    YUM          Yum! Brands     reports  Consumer Discretionary   \n",
       "501   ZBRA   Zebra Technologies     reports  Information Technology   \n",
       "502    ZBH        Zimmer Biomet     reports             Health Care   \n",
       "503   ZION        Zions Bancorp     reports              Financials   \n",
       "504    ZTS               Zoetis     reports             Health Care   \n",
       "\n",
       "                      GICS Sub-Industry    Headquarters Location  \\\n",
       "0              Industrial Conglomerates    Saint Paul, Minnesota   \n",
       "1                 Health Care Equipment  North Chicago, Illinois   \n",
       "2                       Pharmaceuticals  North Chicago, Illinois   \n",
       "3                 Health Care Equipment   Danvers, Massachusetts   \n",
       "4        IT Consulting & Other Services        Chicago, Illinois   \n",
       "..                                  ...                      ...   \n",
       "500                         Restaurants     Louisville, Kentucky   \n",
       "501  Electronic Equipment & Instruments   Lincolnshire, Illinois   \n",
       "502               Health Care Equipment          Warsaw, Indiana   \n",
       "503                      Regional Banks     Salt Lake City, Utah   \n",
       "504                     Pharmaceuticals   Parsippany, New Jersey   \n",
       "\n",
       "    Date first added      CIK      Founded  \n",
       "0         1976-08-09    66740         1902  \n",
       "1         1964-03-31     1800         1888  \n",
       "2         2012-12-31  1551152  2013 (1888)  \n",
       "3         2018-05-31   815094         1981  \n",
       "4         2011-07-06  1467373         1989  \n",
       "..               ...      ...          ...  \n",
       "500       1997-10-06  1041061         1997  \n",
       "501       2019-12-23   877212         1969  \n",
       "502       2001-08-07  1136869         1927  \n",
       "503       2001-06-22   109380         1873  \n",
       "504       2013-06-21  1555280         1952  \n",
       "\n",
       "[505 rows x 9 columns]"
      ]
     },
     "execution_count": 3,
     "metadata": {},
     "output_type": "execute_result"
    }
   ],
   "source": [
    "# Podemos usar la función 'read_html' de Pandas, a la cual le mandamos nuestra URL y nos devuelve una lista de DataFrames que Pandas pudo rescatar desde la página.\n",
    "# Vamos a usarla para obtener nuestra lista de constituyentes.\n",
    "wiki = pd.read_html(\"https://en.wikipedia.org/wiki/List_of_S%26P_500_companies\")\n",
    "\n",
    "sp500 = wiki[0] # el primer DataFrame corresponde a los constituyentes del S&P500\n",
    "sp500"
   ]
  },
  {
   "cell_type": "markdown",
   "metadata": {},
   "source": [
    "## Sectores\n",
    "Como se puede observar en la tabla, cada compañía que cotiza públicamente en la bolsa puede ser asignada a un sector e incluso a un subsector (GICS Sector, GICS Sub-Industry).\n",
    "\n",
    "### Ejercicios\n",
    "- Cuántos distintos sectores existen actualmente entre las empresas del S&P500? Cuántas acciones por sector hay?\n",
    "\n",
    "- Elijamos 3 sectores existentes y para cada uno de ellos, construyamos un índice con las compañías del S&P500 que pertenezcan a él y que el valor del mismo sea la suma de una acción de cada empresa del sector en el cierre ajustado (Adj Close).\n",
    "\n",
    "- Graficar todos estos índices en un mismo lugar, junto al S&P500, para todo lo que va del 2021. Es posible que haya que normalizarlos para poder comparar mejor su rendimiento, cómo podemos hacerlo? Podemos calcular su Sharpe Ratio?"
   ]
  },
  {
   "cell_type": "code",
   "execution_count": 4,
   "metadata": {},
   "outputs": [
    {
     "name": "stdout",
     "output_type": "stream",
     "text": [
      "Cantidad de sectores únicos:  11\n",
      "Cantidad de acciones por sector:  Industrials               74\n",
      "Information Technology    74\n",
      "Financials                65\n",
      "Health Care               64\n",
      "Consumer Discretionary    63\n",
      "Consumer Staples          32\n",
      "Real Estate               29\n",
      "Utilities                 28\n",
      "Materials                 28\n",
      "Communication Services    26\n",
      "Energy                    22\n",
      "Name: GICS Sector, dtype: int64\n"
     ]
    }
   ],
   "source": [
    "# 1) Análisis de sectores\n",
    "n_sect = sp500['GICS Sector'].unique().shape # cantidad de sectores únicos\n",
    "acciones_sect = sp500['GICS Sector'].value_counts() # cantidad de acciones por sector\n",
    "\n",
    "print('Cantidad de sectores únicos: ', n_sect[0])\n",
    "print('Cantidad de acciones por sector: ', acciones_sect)"
   ]
  },
  {
   "cell_type": "code",
   "execution_count": 5,
   "metadata": {},
   "outputs": [
    {
     "name": "stdout",
     "output_type": "stream",
     "text": [
      "['3M', 'Aflac', 'Alaska Air Group', 'Allegion', 'Allstate Corp', 'American Airlines Group', 'American Express', 'American International Group', 'Ameriprise Financial', 'Ametek', 'Aon', 'A. O. Smith', 'APA Corporation', 'Arthur J. Gallagher & Co.', 'Assurant', 'Baker Hughes', 'Bank of America', 'BNY Mellon', 'Berkshire Hathaway', 'BlackRock', 'Boeing Company', 'C. H. Robinson', 'Cabot Oil & Gas', 'Capital One Financial', 'Carrier Global', 'Caterpillar', 'Cboe Global Markets', 'Charles Schwab Corporation', 'Chevron Corporation', 'Chubb', 'Cincinnati Financial', 'Cintas Corporation', 'Citigroup', 'Citizens Financial Group', 'CME Group', 'Comerica', 'ConocoPhillips', 'Copart', 'CSX', 'Cummins', 'Deere & Co.', 'Delta Air Lines', 'Devon Energy', 'Diamondback Energy', 'Discover Financial Services', 'Dover Corporation', 'Eaton Corporation', 'Emerson Electric Company', 'EOG Resources', 'Equifax', 'Everest Re', 'Expeditors', 'ExxonMobil', 'Fastenal', 'FedEx', 'Fifth Third Bancorp', 'First Republic Bank', 'Fortive', 'Fortune Brands Home & Security', 'Franklin Resources', 'Generac Holdings', 'General Dynamics', 'General Electric', 'Globe Life', 'Goldman Sachs', 'W. W. Grainger', 'Halliburton', 'The Hartford', 'Hess Corporation', 'Honeywell', 'Howmet Aerospace', 'Huntington Bancshares', 'Huntington Ingalls Industries', 'IDEX Corporation', 'IHS Markit', 'Illinois Tool Works', 'Ingersoll Rand', 'Intercontinental Exchange', 'Invesco', 'Jacobs Engineering Group', 'J. B. Hunt', 'Johnson Controls', 'JPMorgan Chase', 'Kansas City Southern', 'KeyCorp', 'Kinder Morgan', 'L3Harris Technologies', 'Leidos', 'Lincoln National', 'Lockheed Martin', 'Loews Corporation', 'M&T Bank', 'Marathon Oil', 'Marathon Petroleum', 'MarketAxess', 'Marsh & McLennan', 'Masco', 'MetLife', \"Moody's Corporation\", 'Morgan Stanley', 'MSCI', 'Nasdaq', 'Nielsen Holdings', 'Norfolk Southern', 'Northern Trust', 'Northrop Grumman', 'Nov', 'Occidental Petroleum', 'Old Dominion Freight Line', 'Oneok', 'Otis Worldwide', 'Paccar', 'Parker-Hannifin', 'Pentair', \"People's United Financial\", 'Phillips 66', 'Pioneer Natural Resources', 'PNC Financial Services', 'Principal Financial Group', 'Progressive Corporation', 'Prudential Financial', 'Quanta Services', 'Raymond James Financial', 'Raytheon Technologies', 'Regions Financial Corporation', 'Republic Services', 'Robert Half International', 'Rockwell Automation', 'Rollins', 'Roper Technologies', 'S&P Global', 'Schlumberger', 'Snap-on', 'Southwest Airlines', 'Stanley Black & Decker', 'State Street Corporation', 'SVB Financial', 'Synchrony Financial', 'T. Rowe Price', 'Teledyne Technologies', 'Textron', 'Trane Technologies', 'TransDigm Group', 'The Travelers Companies', 'Truist Financial', 'U.S. Bancorp', 'Union Pacific', 'United Airlines', 'United Parcel Service', 'United Rentals', 'Unum Group', 'Valero Energy', 'Verisk Analytics', 'W. R. Berkley Corporation', 'Wabtec', 'Waste Management', 'Wells Fargo', 'Williams Companies', 'Willis Towers Watson', 'Xylem', 'Zions Bancorp']\n",
      "['MMM', 'AFL', 'ALK', 'ALLE', 'ALL', 'AAL', 'AXP', 'AIG', 'AMP', 'AME', 'AON', 'AOS', 'APA', 'AJG', 'AIZ', 'BKR', 'BAC', 'BK', 'BRK.B', 'BLK', 'BA', 'CHRW', 'COG', 'COF', 'CARR', 'CAT', 'CBOE', 'SCHW', 'CVX', 'CB', 'CINF', 'CTAS', 'C', 'CFG', 'CME', 'CMA', 'COP', 'CPRT', 'CSX', 'CMI', 'DE', 'DAL', 'DVN', 'FANG', 'DFS', 'DOV', 'ETN', 'EMR', 'EOG', 'EFX', 'RE', 'EXPD', 'XOM', 'FAST', 'FDX', 'FITB', 'FRC', 'FTV', 'FBHS', 'BEN', 'GNRC', 'GD', 'GE', 'GL', 'GS', 'GWW', 'HAL', 'HIG', 'HES', 'HON', 'HWM', 'HBAN', 'HII', 'IEX', 'INFO', 'ITW', 'IR', 'ICE', 'IVZ', 'J', 'JBHT', 'JCI', 'JPM', 'KSU', 'KEY', 'KMI', 'LHX', 'LDOS', 'LNC', 'LMT', 'L', 'MTB', 'MRO', 'MPC', 'MKTX', 'MMC', 'MAS', 'MET', 'MCO', 'MS', 'MSCI', 'NDAQ', 'NLSN', 'NSC', 'NTRS', 'NOC', 'NOV', 'OXY', 'ODFL', 'OKE', 'OTIS', 'PCAR', 'PH', 'PNR', 'PBCT', 'PSX', 'PXD', 'PNC', 'PFG', 'PGR', 'PRU', 'PWR', 'RJF', 'RTX', 'RF', 'RSG', 'RHI', 'ROK', 'ROL', 'ROP', 'SPGI', 'SLB', 'SNA', 'LUV', 'SWK', 'STT', 'SIVB', 'SYF', 'TROW', 'TDY', 'TXT', 'TT', 'TDG', 'TRV', 'TFC', 'USB', 'UNP', 'UAL', 'UPS', 'URI', 'UNM', 'VLO', 'VRSK', 'WRB', 'WAB', 'WM', 'WFC', 'WMB', 'WLTW', 'XYL', 'ZION']\n"
     ]
    }
   ],
   "source": [
    "# 2) Creación nuevo índice\n",
    "\n",
    "# Selección de compañías\n",
    "sect_elegidos = ['Industrials', 'Financials', 'Energy']\n",
    "sp500_elegidos = sp500.loc[sp500['GICS Sector'].isin(sect_elegidos)]\n",
    "# snp_elegidos['GICS Sector'].unique().shape # Verifica que las compañías elegidas provengan de sólo estos 3 sectores\n",
    "n_elegidos = sp500_elegidos.shape[0] # Cantidad de empresas en los sectores elegidos\n",
    "comp_elegidas = list(sp500_elegidos['Security']) # Lista de compañías elegidas\n",
    "tickers_comp_elegidas = list(sp500_elegidos['Symbol']) # Símbolo de compañías elegidas\n",
    "\n",
    "print(comp_elegidas)\n",
    "print(tickers_comp_elegidas)"
   ]
  },
  {
   "cell_type": "code",
   "execution_count": 5,
   "metadata": {
    "tags": []
   },
   "outputs": [
    {
     "name": "stdout",
     "output_type": "stream",
     "text": [
      "4\n",
      "Datos no disponibles:  ['BF.B']\n",
      "Cantidad NaN: 3269\n"
     ]
    },
    {
     "data": {
      "text/html": [
       "<div>\n",
       "<style scoped>\n",
       "    .dataframe tbody tr th:only-of-type {\n",
       "        vertical-align: middle;\n",
       "    }\n",
       "\n",
       "    .dataframe tbody tr th {\n",
       "        vertical-align: top;\n",
       "    }\n",
       "\n",
       "    .dataframe thead th {\n",
       "        text-align: right;\n",
       "    }\n",
       "</style>\n",
       "<table border=\"1\" class=\"dataframe\">\n",
       "  <thead>\n",
       "    <tr style=\"text-align: right;\">\n",
       "      <th></th>\n",
       "      <th>Date</th>\n",
       "      <th>Adj Close</th>\n",
       "    </tr>\n",
       "  </thead>\n",
       "  <tbody>\n",
       "    <tr>\n",
       "      <th>0</th>\n",
       "      <td>2000-01-03</td>\n",
       "      <td>NaN</td>\n",
       "    </tr>\n",
       "    <tr>\n",
       "      <th>1</th>\n",
       "      <td>2000-01-04</td>\n",
       "      <td>NaN</td>\n",
       "    </tr>\n",
       "    <tr>\n",
       "      <th>2</th>\n",
       "      <td>2000-01-05</td>\n",
       "      <td>NaN</td>\n",
       "    </tr>\n",
       "    <tr>\n",
       "      <th>3</th>\n",
       "      <td>2000-01-06</td>\n",
       "      <td>NaN</td>\n",
       "    </tr>\n",
       "    <tr>\n",
       "      <th>4</th>\n",
       "      <td>2000-01-07</td>\n",
       "      <td>NaN</td>\n",
       "    </tr>\n",
       "  </tbody>\n",
       "</table>\n",
       "</div>"
      ],
      "text/plain": [
       "        Date  Adj Close\n",
       "0 2000-01-03        NaN\n",
       "1 2000-01-04        NaN\n",
       "2 2000-01-05        NaN\n",
       "3 2000-01-06        NaN\n",
       "4 2000-01-07        NaN"
      ]
     },
     "execution_count": 5,
     "metadata": {},
     "output_type": "execute_result"
    }
   ],
   "source": [
    "# Nuevo índice creado como suma de los precios de las acciones de las compañías elegidas\n",
    "\n",
    "from IPython.display import clear_output # Borra el printscreen en cada iteración\n",
    "\n",
    "# --- PRUEBA BORRAR ---\n",
    "# start_date = \"2020-01-01\"\n",
    "# end_date = \"2020-12-31\"\n",
    "\n",
    "tickers_comp_elegidas = ['MMM', 'ABT', 'ABBV', 'BF.B'] # 'BF.B' # PRUEBA DE JUGUETE! el que vale es el de la celda anterior\n",
    "# tickers_comp_elegidas = tickers_comp_elegidas[:30] # PRUEBA DE JUGUETE! el que vale es el de la celda anterior\n",
    "# --- PRUEBA BORRAR ---\n",
    "\n",
    "# Inicialización de variables\n",
    "data_no_disp = []\n",
    "suma_open = 0\n",
    "suma_high = 0\n",
    "suma_low = 0\n",
    "suma_close = 0\n",
    "suma_adj_close = 0\n",
    "i = 0\n",
    "\n",
    "# Acumulación de precios mediante un bucle\n",
    "for ticker in tickers_comp_elegidas:\n",
    "    data_ticker = data.get_data_yahoo(ticker, start=start_date, end=end_date)\n",
    "#     print(data_ticker.shape) # Se observan que los data_ticker tienen tamaños diferentes en algunos casos\n",
    "\n",
    "    if data_ticker.empty: # Chequeo si el df está vacío\n",
    "        data_no_disp.append(ticker)\n",
    "#         continue\n",
    "    \n",
    "#     if data_ticker.values.any(): # Chequeo existencias de NaN en df. En ese caso se imputa valor nulo\n",
    "#         data_ticker.fillna(0, inplace=True)\n",
    "    else:\n",
    "#         data_ticker.fillna(0, inplace=True)\n",
    "        suma_open = data_ticker['Open'] + suma_open\n",
    "        suma_high = data_ticker['High'] + suma_high\n",
    "        suma_low = data_ticker['Low'] + suma_low\n",
    "        suma_close = data_ticker['Close'] + suma_close\n",
    "        suma_adj_close = data_ticker['Adj Close'] + suma_adj_close # Consulta: la suma la hace automáticamente coincidiendo fechas o hay que verificar esto por aparte?\n",
    "    \n",
    "    clear_output(wait=True) # Borra el printscreen en cada iteración\n",
    "    data_ticker = [] # Reinicio variable\n",
    "    i += 1 # Control de cantidad de evaluaciones\n",
    "\n",
    "print(i)\n",
    "print(\"Datos no disponibles: \", data_no_disp)\n",
    "\n",
    "# S&P500 NEW\n",
    "sp500_new = pd.DataFrame({'Date':suma_open.index, \\\n",
    "                          'Open':suma_open.values, \\\n",
    "                          'High':suma_high.values, \\\n",
    "                          'Low':suma_low.values, \\\n",
    "                          'Close':suma_close.values, \\\n",
    "                          'Adj Close':suma_adj_close.values}) # Convierte Series a DataFrame\n",
    "\n",
    "# Considero New Index solo a columna 'Adj Close'\n",
    "new_index = pd.DataFrame(data=sp500_new, columns=['Date', 'Adj Close'])\n",
    "print(\"Cantidad NaN:\", new_index['Adj Close'].isnull().sum()) # Compruebo existencia de NaN. Estos serán imputados de alguna manera o eliminados\n",
    "new_index.head()\n",
    "\n",
    "# CHEQUEAR PORQUE HAY TANTOS NAN!!!"
   ]
  },
  {
   "cell_type": "code",
   "execution_count": 41,
   "metadata": {},
   "outputs": [
    {
     "name": "stdout",
     "output_type": "stream",
     "text": [
      "[*********************100%***********************]  4 of 4 completed\n",
      "2\n"
     ]
    }
   ],
   "source": [
    "data_ticker = data.get_data_yahoo(tickers_comp_elegidas, start=start_date, end=end_date)\n",
    "data_ticker.head()\n",
    "print(data_ticker.columns.nlevels)\n",
    "\n",
    "# new_index_1 = data_ticker.sum(level=[0,1])\n",
    "# new_index_1.head()"
   ]
  },
  {
   "cell_type": "code",
   "execution_count": null,
   "metadata": {},
   "outputs": [],
   "source": [
    "# # Imputación de valores\n",
    "# '''\n",
    "# Se escoge como método de imputación a la asignación por vecinos más cercanos (KNNImputer).\n",
    "\n",
    "# '''\n",
    "# from sklearn.impute import KNNImputer\n",
    "\n",
    "# new_index_imp = new_index.copy(deep=True)\n",
    "\n",
    "# imputer = KNNImputer(n_neighbors=3)\n",
    "# new_index_imp[['Adj Close']] = imputer.fit_transform(new_index_imp[['Adj Close']])\n",
    "# new_index_imp['Adj Close'].isnull().sum() # Compruebo existencia de NaN. Estos serán imputados de alguna manera\n",
    "\n",
    "# new_index_imp['Adj Close'].plot(figsize=(16,9))\n",
    "# new_index['Adj Close'].plot(figsize=(16,9))\n",
    "\n",
    "# '''\n",
    "# Luego de hacer la prueba de imputación, se observa que los valores faltantes corresponden a períodos considerables\n",
    "# de tiempo y que incluso se encuentran continuados. Es por eso que la información que se pudiera imputar no se \n",
    "# estima adecuada. Se decide no realizar imputación de valores, sino que directamente se eliminarán los valores\n",
    "# faltantes para evitar usar datos que lleven a conclusiones erradas. Incluso pensar en otro método de imputación,\n",
    "# no llevará a resultados mejores.\n",
    "# La premisa es: trabajar con los datos fieles disponibles.\n",
    "# '''\n",
    "\n",
    "# new_index.dropna(inplace=True)\n",
    "# new_index_imp['Adj Close'].isnull().sum() # Compruebo existencia de NaN. Estos serán imputados de alguna manera"
   ]
  },
  {
   "cell_type": "code",
   "execution_count": 8,
   "metadata": {},
   "outputs": [
    {
     "data": {
      "text/html": [
       "<div>\n",
       "<style scoped>\n",
       "    .dataframe tbody tr th:only-of-type {\n",
       "        vertical-align: middle;\n",
       "    }\n",
       "\n",
       "    .dataframe tbody tr th {\n",
       "        vertical-align: top;\n",
       "    }\n",
       "\n",
       "    .dataframe thead th {\n",
       "        text-align: right;\n",
       "    }\n",
       "</style>\n",
       "<table border=\"1\" class=\"dataframe\">\n",
       "  <thead>\n",
       "    <tr style=\"text-align: right;\">\n",
       "      <th></th>\n",
       "      <th>Date</th>\n",
       "      <th>Open</th>\n",
       "      <th>High</th>\n",
       "      <th>Low</th>\n",
       "      <th>Close</th>\n",
       "      <th>Adj Close</th>\n",
       "      <th>Volume</th>\n",
       "    </tr>\n",
       "  </thead>\n",
       "  <tbody>\n",
       "    <tr>\n",
       "      <th>0</th>\n",
       "      <td>2000-01-03</td>\n",
       "      <td>148.25000</td>\n",
       "      <td>148.25000</td>\n",
       "      <td>143.875000</td>\n",
       "      <td>145.4375</td>\n",
       "      <td>97.506668</td>\n",
       "      <td>8164300</td>\n",
       "    </tr>\n",
       "    <tr>\n",
       "      <th>1</th>\n",
       "      <td>2000-01-04</td>\n",
       "      <td>143.53125</td>\n",
       "      <td>144.06250</td>\n",
       "      <td>139.640625</td>\n",
       "      <td>139.7500</td>\n",
       "      <td>93.693573</td>\n",
       "      <td>8089800</td>\n",
       "    </tr>\n",
       "    <tr>\n",
       "      <th>2</th>\n",
       "      <td>2000-01-05</td>\n",
       "      <td>139.93750</td>\n",
       "      <td>141.53125</td>\n",
       "      <td>137.250000</td>\n",
       "      <td>140.0000</td>\n",
       "      <td>93.861176</td>\n",
       "      <td>12177900</td>\n",
       "    </tr>\n",
       "  </tbody>\n",
       "</table>\n",
       "</div>"
      ],
      "text/plain": [
       "        Date       Open       High         Low     Close  Adj Close    Volume\n",
       "0 2000-01-03  148.25000  148.25000  143.875000  145.4375  97.506668   8164300\n",
       "1 2000-01-04  143.53125  144.06250  139.640625  139.7500  93.693573   8089800\n",
       "2 2000-01-05  139.93750  141.53125  137.250000  140.0000  93.861176  12177900"
      ]
     },
     "execution_count": 8,
     "metadata": {},
     "output_type": "execute_result"
    }
   ],
   "source": [
    "# Preparación de df para graficación\n",
    "data_spy.reset_index(level='Date', inplace=True) # Reseteo MultiIndex (Date en este caso y la guardaré como columna)\n",
    "data_spy.set_index('Date') # Indico que el index será 'Date'\n",
    "data_spy.head(3)\n"
   ]
  },
  {
   "cell_type": "code",
   "execution_count": 9,
   "metadata": {},
   "outputs": [
    {
     "data": {
      "text/html": [
       "<div>\n",
       "<style scoped>\n",
       "    .dataframe tbody tr th:only-of-type {\n",
       "        vertical-align: middle;\n",
       "    }\n",
       "\n",
       "    .dataframe tbody tr th {\n",
       "        vertical-align: top;\n",
       "    }\n",
       "\n",
       "    .dataframe thead th {\n",
       "        text-align: right;\n",
       "    }\n",
       "</style>\n",
       "<table border=\"1\" class=\"dataframe\">\n",
       "  <thead>\n",
       "    <tr style=\"text-align: right;\">\n",
       "      <th></th>\n",
       "      <th>Date</th>\n",
       "      <th>Adj Close</th>\n",
       "    </tr>\n",
       "  </thead>\n",
       "  <tbody>\n",
       "    <tr>\n",
       "      <th>0</th>\n",
       "      <td>1999-12-31</td>\n",
       "      <td>NaN</td>\n",
       "    </tr>\n",
       "    <tr>\n",
       "      <th>1</th>\n",
       "      <td>2000-01-03</td>\n",
       "      <td>NaN</td>\n",
       "    </tr>\n",
       "    <tr>\n",
       "      <th>2</th>\n",
       "      <td>2000-01-04</td>\n",
       "      <td>NaN</td>\n",
       "    </tr>\n",
       "    <tr>\n",
       "      <th>3</th>\n",
       "      <td>2000-01-05</td>\n",
       "      <td>NaN</td>\n",
       "    </tr>\n",
       "    <tr>\n",
       "      <th>4</th>\n",
       "      <td>2000-01-06</td>\n",
       "      <td>NaN</td>\n",
       "    </tr>\n",
       "  </tbody>\n",
       "</table>\n",
       "</div>"
      ],
      "text/plain": [
       "        Date  Adj Close\n",
       "0 1999-12-31        NaN\n",
       "1 2000-01-03        NaN\n",
       "2 2000-01-04        NaN\n",
       "3 2000-01-05        NaN\n",
       "4 2000-01-06        NaN"
      ]
     },
     "execution_count": 9,
     "metadata": {},
     "output_type": "execute_result"
    }
   ],
   "source": [
    "# Estandarización para comparación (Dejamos el término normalizar para conversión a distribución con dicho nombre)\n",
    "'''\n",
    "Como el nuevo índice es una suma de todas los precios del cierre ajustado de las acciones de las compañías filtradas por sector,\n",
    "este valor puede ser de orden diferente a los valores del ticker 'SPY'. Es por eso que se hace este procedimiento\n",
    "a fin de poder comparar sus comportamientos.\n",
    "'''\n",
    "from sklearn.preprocessing import StandardScaler\n",
    "\n",
    "data_spy_scl = data_spy.copy(deep=True)\n",
    "new_index_scl = new_index.copy(deep=True)\n",
    "\n",
    "scaler = StandardScaler() # z = (x - u) / s\n",
    "data_spy_scl['Adj Close'] = scaler.fit_transform(np.array(data_spy_scl['Adj Close'].values.tolist()).reshape(-1, 1))  # StandarScaler requiere matrix 2D. Cómo se tiene es un vector de Series (1D), lo paso a array y hago reshape\n",
    "new_index_scl['Adj Close'] = scaler.fit_transform(np.array(new_index_scl['Adj Close'].values.tolist()).reshape(-1, 1)) \n",
    "new_index_scl.head()"
   ]
  },
  {
   "cell_type": "code",
   "execution_count": 10,
   "metadata": {},
   "outputs": [
    {
     "data": {
      "image/png": "[encoded data removed]",
      "text/plain": [
       "<Figure size 432x288 with 1 Axes>"
      ]
     },
     "metadata": {
      "needs_background": "light"
     },
     "output_type": "display_data"
    }
   ],
   "source": [
    "# 3) Gráficación \n",
    "\n",
    "# data_spy['Adj Close'].plot(figsize=(16,9))\n",
    "# new_index['Adj Close'].plot(figsize=(16,9))\n",
    "\n",
    "# Gráfico de Variación de Cierre Ajustado\n",
    "plt.plot('Date', 'Adj Close', data=data_spy_scl, label='SPY')\n",
    "plt.plot('Date', 'Adj Close', data=new_index_scl, label='SP500NEW')\n",
    "plt.legend()\n",
    "plt.xlabel('Fecha')\n",
    "plt.ylabel('Adj Close')\n",
    "plt.show()\n"
   ]
  },
  {
   "cell_type": "code",
   "execution_count": 11,
   "metadata": {},
   "outputs": [
    {
     "name": "stdout",
     "output_type": "stream",
     "text": [
      "Rendimiento data_spy:  145.02535554380094\n",
      "Rendimiento new_index:  18210.163167597035\n"
     ]
    },
    {
     "data": {
      "image/png": "[encoded data removed]",
      "text/plain": [
       "<Figure size 432x288 with 1 Axes>"
      ]
     },
     "metadata": {
      "needs_background": "light"
     },
     "output_type": "display_data"
    }
   ],
   "source": [
    "# Determinación del rendimiento para cada índice (trabajo sobre df original)\n",
    "\n",
    "rend_data_spy = data_spy['Adj Close'].mean() # Analizar si esto es necesario colocar\n",
    "rend_new_index = new_index['Adj Close'].mean() # Analizar si esto es necesario colocar\n",
    "print(\"Rendimiento data_spy: \", rend_data_spy)\n",
    "print(\"Rendimiento new_index: \", rend_new_index)\n",
    "\n",
    "# Determinación del SharpeRatio (trabajo sobre df original)\n",
    "ventana = 7\n",
    "\n",
    "data_spy['Roll_Mean'] = data_spy['Adj Close'].rolling(ventana).mean()\n",
    "data_spy['Roll_Std'] = data_spy['Adj Close'].rolling(ventana).std()\n",
    "data_spy['SharpeRatio'] = data_spy['Roll_Mean'] / data_spy['Roll_Std']\n",
    "\n",
    "new_index['Roll_Mean'] = new_index['Adj Close'].rolling(ventana).mean()\n",
    "new_index['Roll_Std'] = new_index['Adj Close'].rolling(ventana).std()\n",
    "new_index['SharpeRatio'] = new_index['Roll_Mean'] / new_index['Roll_Std'] \n",
    "\n",
    "# ax = sns.scatterplot(data=data_spy, x='Roll_Mean', y='Roll_Std', hue='SharpeRatio')\n",
    "ax = sns.scatterplot(data=new_index, x='Roll_Mean', y='Roll_Std', hue='SharpeRatio')"
   ]
  },
  {
   "cell_type": "markdown",
   "metadata": {},
   "source": [
    "## Cisnes Negros\n",
    "\n",
    "Un Cisne Negro (Black Swan) es un evento impredecible que trae consecuencias potencialmente muy severas. Estos eventos tienen como características principales su extrema rareza, impacto severo y la idea de que, mirando al pasado, era obvio que iban a ocurrir.\n",
    "\n",
    "Un ejemplo famoso de cisne negro en el mercado estadounidense fue la \"Burbuja de las DotCom\": Una rápida subida de valor en las acciones de las empresas de base tecnológica hizo que el índice Nasdaq subiera su valor de 1000 a más de 5000 en un período de 5 años (1995-2000). En 2001, el índice tardó aproximadamente 7 meses en bajar un 76%, volviendo a una valoración de 1136, con pérdidas del 80% del valor en casos como los de Cisco, Intel y Oracle. El índice tardó luego 15 años en volver al valor de finales del 2000. Para más información, se puede visitar el [siguiente link](https://www.investopedia.com/terms/d/dotcom-bubble.asp).\n",
    "\n",
    "Para identificar cisnes negros en el mercado financiero, podemos usar los retornos diarios de las acciones y ajustar una distribución de probabilidad normal sobre los mismos. Aquellos retornos que estén por encima o por debajo de 3 o más desviaciones estándar pueden ser considerados cisnes negros.\n",
    "\n",
    "### Ejercicios\n",
    "- Cuántos de estos eventos existieron en el S&P500 desde el año 2000 hasta la fecha y cuándo ocurrieron esos eventos? Es posible encontrar algunas noticias relacionadas con esas fechas?\n",
    "\n",
    "- Supongamos que invertimos U$D 1.000 en el SPY a comienzos del 2000 y que además teníamos una bola de cristal, pudiendo dejar de invertir nuestro dinero justo el día anterior a un cisne negro y reinvertirlo el día después. Cuánto dinero tendríamos hoy?\n"
   ]
  },
  {
   "cell_type": "code",
   "execution_count": 12,
   "metadata": {},
   "outputs": [
    {
     "data": {
      "image/png": "[encoded data removed]",
      "text/plain": [
       "<Figure size 432x288 with 1 Axes>"
      ]
     },
     "metadata": {
      "needs_background": "light"
     },
     "output_type": "display_data"
    },
    {
     "data": {
      "image/png": "[encoded data removed]",
      "text/plain": [
       "<Figure size 360x360 with 1 Axes>"
      ]
     },
     "metadata": {
      "needs_background": "light"
     },
     "output_type": "display_data"
    },
    {
     "data": {
      "image/png": "[encoded data removed]",
      "text/plain": [
       "<Figure size 360x360 with 1 Axes>"
      ]
     },
     "metadata": {
      "needs_background": "light"
     },
     "output_type": "display_data"
    }
   ],
   "source": [
    "# 1) Detección de eventos\n",
    "\n",
    "# Determinación de retornos (sobre Adj Close)\n",
    "\n",
    "data_spy['Retornos'] = data_spy['Adj Close'].pct_change()*100\n",
    "sp500_new['Retornos'] = sp500_new['Adj Close'].pct_change()*100\n",
    "\n",
    "# Gráfico de retornos diarios\n",
    "plt.plot('Date', 'Retornos', data=data_spy, label='SPY')\n",
    "plt.plot('Date', 'Retornos', data=sp500_new, label='SP500NEW')\n",
    "plt.legend()\n",
    "plt.xlabel('Fecha')\n",
    "plt.ylabel('Retorno')\n",
    "plt.show()\n",
    "\n",
    "ax = sns.displot(data=data_spy, x='Retornos', kde=True, color='blue')\n",
    "ax = sns.displot(data=sp500_new, x='Retornos', kde=True, color='orange')"
   ]
  },
  {
   "cell_type": "code",
   "execution_count": 13,
   "metadata": {},
   "outputs": [
    {
     "name": "stdout",
     "output_type": "stream",
     "text": [
      "mu= 0.034775352896468235 std= 1.2473019240310785\n",
      "(5389, 11) (5346, 11)\n",
      "Cantidad Eventos:  43\n",
      "Fechas Eventos:  1      2000-01-04\n",
      "72     2000-04-14\n",
      "299    2001-03-12\n",
      "426    2001-09-17\n",
      "668    2002-09-03\n",
      "1796   2007-02-27\n",
      "2187   2008-09-15\n",
      "2189   2008-09-17\n",
      "2197   2008-09-29\n",
      "2202   2008-10-06\n",
      "2203   2008-10-07\n",
      "2205   2008-10-09\n",
      "2209   2008-10-15\n",
      "2214   2008-10-22\n",
      "2216   2008-10-24\n",
      "2224   2008-11-05\n",
      "2225   2008-11-06\n",
      "2229   2008-11-12\n",
      "2231   2008-11-14\n",
      "2234   2008-11-19\n",
      "2235   2008-11-20\n",
      "2241   2008-12-01\n",
      "2274   2009-01-20\n",
      "2289   2009-02-10\n",
      "2293   2009-02-17\n",
      "2302   2009-03-02\n",
      "2305   2009-03-05\n",
      "2336   2009-04-20\n",
      "2915   2011-08-04\n",
      "2917   2011-08-08\n",
      "2919   2011-08-10\n",
      "2925   2011-08-18\n",
      "3934   2015-08-24\n",
      "4551   2018-02-05\n",
      "5069   2020-02-27\n",
      "5076   2020-03-09\n",
      "5078   2020-03-11\n",
      "5079   2020-03-12\n",
      "5081   2020-03-16\n",
      "5083   2020-03-18\n",
      "5085   2020-03-20\n",
      "5093   2020-04-01\n",
      "5142   2020-06-11\n",
      "Name: Date, dtype: datetime64[ns]\n",
      "Valores BS:  1       -3.910599\n",
      "72      -5.719233\n",
      "299     -4.280082\n",
      "426     -5.224897\n",
      "668     -3.813524\n",
      "1796    -3.905810\n",
      "2187    -4.758539\n",
      "2189    -4.496306\n",
      "2197    -7.836156\n",
      "2202    -5.093347\n",
      "2203    -4.478650\n",
      "2205    -6.983906\n",
      "2209    -9.844754\n",
      "2214    -5.445407\n",
      "2216    -5.071448\n",
      "2224    -4.202710\n",
      "2225    -5.541167\n",
      "2229    -4.400098\n",
      "2231    -4.990667\n",
      "2234    -6.407914\n",
      "2235    -7.423328\n",
      "2241    -8.857752\n",
      "2274    -5.278613\n",
      "2289    -4.580922\n",
      "2293    -4.277400\n",
      "2302    -4.504262\n",
      "2305    -4.084739\n",
      "2336    -4.191574\n",
      "2915    -4.684162\n",
      "2917    -6.512346\n",
      "2919    -4.417768\n",
      "2925    -4.311855\n",
      "3934    -4.210715\n",
      "4551    -4.182275\n",
      "5069    -4.491177\n",
      "5076    -7.809445\n",
      "5078    -4.874830\n",
      "5079    -9.567725\n",
      "5081   -10.942384\n",
      "5083    -5.063288\n",
      "5085    -4.309420\n",
      "5093    -4.500492\n",
      "5142    -5.764906\n",
      "Name: Retornos, dtype: float64\n"
     ]
    },
    {
     "data": {
      "image/png": "[encoded data removed]",
      "text/plain": [
       "<Figure size 432x288 with 1 Axes>"
      ]
     },
     "metadata": {
      "needs_background": "light"
     },
     "output_type": "display_data"
    }
   ],
   "source": [
    "# ANALISIS PARA SPY\n",
    "\n",
    "# Ajuste de una función de densidad de probabilidad normal (¿se asemeja? podría hacer test: Shapiro-Wilk, K^2 de D’Agostino)\n",
    "\n",
    "# Con librería\n",
    "from scipy.stats import norm\n",
    "\n",
    "# mu, std = norm.fit(data_spy['Retornos'].dropna()) # Agrego dropna porque sino me tira error. Este paso es lo mismo que hacer: data_spy['Retornos'].mean() y data_spy['Retornos'].std()\n",
    "\n",
    "# Manual\n",
    "mu = data_spy['Retornos'].mean()\n",
    "std = data_spy['Retornos'].std()\n",
    "\n",
    "print(\"mu=\", mu, \"std=\", std)\n",
    "\n",
    "# Histograma\n",
    "plt.hist(data_spy['Retornos'], bins=25, density=True, alpha=0.5, color='b')\n",
    "\n",
    "xmin, xmax = plt.xlim()\n",
    "x = np.linspace(xmin, xmax, 100)\n",
    "p = norm.pdf(x, mu, std) # Ajuste de PDF\n",
    "plt.plot(x, p, 'k', linewidth=2)\n",
    "\n",
    "# Eventos (Black Swans) # DUDA: UNA BLACK SWAN ES UN EVENTO TANTO EN PERDIDA COMO EN GANANCIA? O SOLO EN PERDIDA?\n",
    "umbral = mu + 3*std\n",
    "\n",
    "# posicion = abs(data_spy['Retornos']) >= umbral # Black Swan tanto en ganancia como pérdida\n",
    "posicion = data_spy['Retornos'] <= -umbral # Black Swan solo en pérdida\n",
    "\n",
    "cantidad_bs = data_spy[posicion]['Retornos'].count()\n",
    "fechas_bs = data_spy[posicion]['Date']\n",
    "valores_bs = data_spy[posicion]['Retornos']\n",
    "\n",
    "# Df sin Black Swans\n",
    "data_spy_clean = data_spy.copy(deep=True)\n",
    "data_spy_clean = data_spy_clean.loc[~posicion] # Tomo las entradas donde no ocurren eventos [~posicion]\n",
    "\n",
    "print(data_spy.shape, data_spy_clean.shape)\n",
    "\n",
    "print(\"Cantidad Eventos: \", cantidad_bs)\n",
    "print(\"Fechas Eventos: \", fechas_bs)\n",
    "print(\"Valores BS: \", valores_bs)\n",
    "\n",
    "# Pendiente: Buscar noticias para estas fechas"
   ]
  },
  {
   "cell_type": "code",
   "execution_count": 14,
   "metadata": {
    "tags": []
   },
   "outputs": [
    {
     "name": "stdout",
     "output_type": "stream",
     "text": [
      "Rendimiento neto con Black Swans: 4280.778198230823\n",
      "Rendimiento neto sin Black Swans: 48459.209136182326\n"
     ]
    }
   ],
   "source": [
    "# 2) Simulación de resultados en el período con y sin Black Swans\n",
    "\n",
    "# CREO UN FUNCION PARA CALCULO DEL RENDIMIENTO NETO\n",
    "# ---------------------------------------------------------------------------------------\n",
    "def rendimiento_neto(inversion, retornos):\n",
    "    '''\n",
    "    Entrada: - inversion: [number] monto de inversión inicial.\n",
    "             - retornos: [pandas.DataFrame] retornos unitarios (no %) del precio 'Adj close' o eventualmente 'Close' por día.\n",
    "                        o ya procesado con pct_change. Cuidado de introducir en este caso valores unitarios, no porcentuales.\n",
    "             - pct_change: [bool] Indica si quiere procesar \"valores\" con pct_change. Por defecto: False\n",
    "    Salida: - rendimiento neto de la inversión en el período.\n",
    "    '''\n",
    "    n = retornos.shape[0]\n",
    "    \n",
    "    for i in range(0, n): # Pensar este loop para vectorizar...\n",
    "\n",
    "        if i == 0:\n",
    "            neto = inversion\n",
    "        else:\n",
    "            neto = neto*(1 + retornos.iloc[i]) # neto + retornos.iloc[i] * neto\n",
    "    \n",
    "    return neto\n",
    "# ---------------------------------------------------------------------------------------\n",
    "\n",
    "inversion_inicial = 1000\n",
    "\n",
    "# Resultado sin filtrar Black Swans\n",
    "resultado_data_spy = rendimiento_neto(inversion_inicial, data_spy['Retornos']/100) # División por 100 para asignar valores unitarios\n",
    "print(\"Rendimiento neto con Black Swans:\", resultado_data_spy)\n",
    "\n",
    "# Resultado filtrando Black Swans\n",
    "resultado_data_spy_clean = rendimiento_neto(inversion_inicial, data_spy_clean['Retornos']/100) # División por 100 para asignar valores unitarios\n",
    "print(\"Rendimiento neto sin Black Swans:\", resultado_data_spy_clean)"
   ]
  },
  {
   "cell_type": "code",
   "execution_count": 16,
   "metadata": {},
   "outputs": [
    {
     "name": "stdout",
     "output_type": "stream",
     "text": [
      "mu= 0.24984137746377735 std= 1.7935462847638246\n",
      "(5390, 7) (5389, 7)\n",
      "Cantidad Eventos:  1\n",
      "Fechas Eventos:  5143   2020-06-11\n",
      "Name: Date, dtype: datetime64[ns]\n",
      "Valores BS:  5143   -6.963661\n",
      "Name: Retornos, dtype: float64\n"
     ]
    },
    {
     "data": {
      "image/png": "[encoded data removed]",
      "text/plain": [
       "<Figure size 432x288 with 1 Axes>"
      ]
     },
     "metadata": {
      "needs_background": "light"
     },
     "output_type": "display_data"
    }
   ],
   "source": [
    "# ANALISIS PARA NEW_INDEX\n",
    "\n",
    "# Ajuste de una función de densidad de probabilidad normal (¿se asemeja? podría hacer test: Shapiro-Wilk, K^2 de D’Agostino)\n",
    "\n",
    "# Con librería\n",
    "# mu, std = norm.fit(new_index['Retornos'].dropna()) # Agrego dropna porque sino me tira error.\n",
    "\n",
    "# Manual\n",
    "mu = sp500_new['Retornos'].mean()\n",
    "std = sp500_new['Retornos'].std()\n",
    "\n",
    "print(\"mu=\", mu, \"std=\", std)\n",
    "\n",
    "# Histograma\n",
    "plt.hist(sp500_new['Retornos'], bins=25, density=True, alpha=0.5, color='g')\n",
    "\n",
    "xmin, xmax = plt.xlim()\n",
    "x = np.linspace(xmin, xmax, 100)\n",
    "p = norm.pdf(x, mu, std) # Ajuste de PDF\n",
    "plt.plot(x, p, 'k', linewidth=2)\n",
    "\n",
    "\n",
    "# Eventos (Black Swans) # DUDA: UNA BLACK SWAN ES UN EVENTO TANTO EN PERDIDA COMO EN GANANCIA? O SOLO EN PERDIDA?\n",
    "umbral = mu + 3*std\n",
    "\n",
    "# posicion = abs(new_index['Retornos']) >= umbral # Black Swan tanto en ganancia como pérdida\n",
    "posicion = sp500_new['Retornos'] <= -umbral # Black Swan solo en pérdida\n",
    "\n",
    "cantidad_bs = sp500_new[posicion]['Retornos'].count()\n",
    "fechas_bs = sp500_new[posicion]['Date']\n",
    "valores_bs = sp500_new[posicion]['Retornos']\n",
    "\n",
    "# Df sin Black Swans\n",
    "sp500_new_clean = sp500_new.copy(deep=True)\n",
    "sp500_new_clean = sp500_new_clean.loc[~posicion] # Tomo las entradas donde no ocurren eventos [~posicion]\n",
    "\n",
    "print(sp500_new.shape, sp500_new_clean.shape)\n",
    "\n",
    "print(\"Cantidad Eventos: \", cantidad_bs)\n",
    "print(\"Fechas Eventos: \", fechas_bs)\n",
    "print(\"Valores BS: \", valores_bs)\n",
    "\n",
    "# Pendiente: Buscar noticias para estas fechas"
   ]
  },
  {
   "cell_type": "code",
   "execution_count": 17,
   "metadata": {},
   "outputs": [
    {
     "name": "stdout",
     "output_type": "stream",
     "text": [
      "Rendimiento neto con Black Swans: nan\n",
      "Rendimiento neto sin Black Swans: nan\n"
     ]
    }
   ],
   "source": [
    "# 2) Simulación de resultados en el período con y sin Black Swans\n",
    "\n",
    "inversion_inicial = 1000\n",
    "\n",
    "# Resultado sin filtrar Black Swans\n",
    "resultado_sp500_new = rendimiento_neto(inversion_inicial, sp500_new['Retornos']/100) # División por 100 para asignar valores unitarios\n",
    "print(\"Rendimiento neto con Black Swans:\", resultado_sp500_new)\n",
    "\n",
    "# Resultado filtrando Black Swans\n",
    "resultado_sp500_new_clean = rendimiento_neto(inversion_inicial, sp500_new_clean['Retornos']/100) # División por 100 para asignar valores unitarios\n",
    "print(\"Rendimiento neto sin Black Swans:\", resultado_sp500_new_clean)\n",
    "\n",
    "# CHEQUEAR PORQUE DAN NAN!!!"
   ]
  },
  {
   "cell_type": "markdown",
   "metadata": {},
   "source": [
    "## Cómo se generan los precios diarios?\n",
    "\n",
    "Si bien los precios con los que estamos trabajando ahora no parecen ser un volumen muy grande de datos, los mismos son resúmenes generados a partir de datos de transacciones de mercado en tiempo real todos los días, para todos los activos financieros. FINRA cuenta un poco cómo es el proceso del punto de vista del gran volumen manejado en [este link](https://technology.finra.org/articles/how-finra-processes-75-billion-market-events-daily.html).\n",
    "\n",
    "Por lo general, los mercados de acciones permanecen abiertos durante los días hábiles desde aprox. las 11hs hasta las 17hs y durante todo ese período, para todo activo, se realizan ofertas de compra y venta de los mismos, que se van organizando automáticamente en un libro de órdenes como el de la imagen de abajo.\n",
    "\n",
    "![order_book](https://wp.fxssi.com/wp-content/uploads/2019/04/en_post-images.jpg)\n",
    "\n",
    "Básicamente, para cada activo, se listan todas las ofertas de compra y venta y se realiza una operación exitosamente cuando coinciden los precios."
   ]
  },
  {
   "cell_type": "markdown",
   "metadata": {},
   "source": [
    "## Timeframes"
   ]
  },
  {
   "cell_type": "markdown",
   "metadata": {},
   "source": [
    "Cómo vimos en el primer práctico y en sus correcciones, es muy importante establer un marco temporal de análisis que sea consistente con la estrategia de inversión.\n",
    "\n",
    "Para algotrading un timeframe apropiado será el análisis de milisegundos, y para una estrategia de largo plazo el análisis puede ser mensual. "
   ]
  },
  {
   "cell_type": "markdown",
   "metadata": {},
   "source": [
    "### Ejercicios"
   ]
  },
  {
   "cell_type": "markdown",
   "metadata": {},
   "source": [
    "- Transformar los índices realizados en el ejercicio anterior a timeframes mensuales. \n",
    "\n",
    "- Para ello en cada fila de datos considerar el Open, Close, High y Low de cada mes. \n",
    "\n",
    "- Graficar los cierres ajustados de estas nuevas series contrastandolas contra las series diarias. \n",
    "\n",
    "- Comentar: ¿Qué información se gana y se pierde con este cambio? ¿Cuándo se imaginan que puede ser útil tomar esta perspectiva?"
   ]
  },
  {
   "cell_type": "code",
   "execution_count": 18,
   "metadata": {},
   "outputs": [],
   "source": [
    "# 1) y 2) Transformación a ventanas mensuales\n",
    "data_spy_mens = data_spy.copy(deep=True)\n",
    "sp500_new_mens = sp500_new.copy(deep=True)\n",
    "\n",
    "# data_spy_mens\n",
    "\n",
    "ventana = 30\n",
    "data_spy_mens[['Open', 'Close', 'High', 'Low', 'Adj Close']] = data_spy_mens[['Open', 'Close', 'High', 'Low', 'Adj Close']].rolling(ventana).mean()\n",
    "sp500_new_mens[['Open', 'Close', 'High', 'Low', 'Adj Close']] = sp500_new_mens[['Open', 'Close', 'High', 'Low', 'Adj Close']].rolling(ventana).mean()\n"
   ]
  },
  {
   "cell_type": "code",
   "execution_count": 19,
   "metadata": {},
   "outputs": [
    {
     "data": {
      "image/png": "[encoded data removed]",
      "text/plain": [
       "<Figure size 432x288 with 1 Axes>"
      ]
     },
     "metadata": {
      "needs_background": "light"
     },
     "output_type": "display_data"
    }
   ],
   "source": [
    "# 3) Graficación\n",
    "\n",
    "# Gráfico de Cierres Ajustados\n",
    "plt.plot('Date', 'Adj Close', data=data_spy_mens, label='Adj Close')\n",
    "plt.plot('Date', 'Adj Close', data=sp500_new_mens, label='Adj Close')\n",
    "plt.legend()\n",
    "plt.xlabel('Fecha')\n",
    "plt.ylabel('Adj Close')\n",
    "plt.show()\n",
    "\n",
    "data_spy_mens['Retornos'] = data_spy_mens['Adj Close'].pct_change()*100\n",
    "sp500_new_mens['Retornos'] = sp500_new_mens['Adj Close'].pct_change()*100\n"
   ]
  },
  {
   "cell_type": "code",
   "execution_count": 20,
   "metadata": {},
   "outputs": [
    {
     "data": {
      "image/png": "[encoded data removed]",
      "text/plain": [
       "<Figure size 432x288 with 1 Axes>"
      ]
     },
     "metadata": {
      "needs_background": "light"
     },
     "output_type": "display_data"
    }
   ],
   "source": [
    "# Gráfico de retornos mensuales vs diarios\n",
    "plt.plot('Date', 'Retornos', data=data_spy, label='SPY-DIAR')\n",
    "plt.plot('Date', 'Retornos', data=data_spy_mens, label='SPY-MENS')\n",
    "plt.legend()\n",
    "plt.xlabel('Fecha')\n",
    "plt.ylabel('Retorno')\n",
    "plt.show()"
   ]
  },
  {
   "cell_type": "code",
   "execution_count": 21,
   "metadata": {},
   "outputs": [
    {
     "data": {
      "image/png": "[encoded data removed]",
      "text/plain": [
       "<Figure size 432x288 with 1 Axes>"
      ]
     },
     "metadata": {
      "needs_background": "light"
     },
     "output_type": "display_data"
    }
   ],
   "source": [
    "plt.plot('Date', 'Retornos', data=sp500_new, label='SP500NEW-DIAR')\n",
    "plt.plot('Date', 'Retornos', data=sp500_new_mens, label='SP500NEW-MENS')\n",
    "plt.legend()\n",
    "plt.xlabel('Fecha')\n",
    "plt.ylabel('Retorno')\n",
    "plt.show()"
   ]
  },
  {
   "cell_type": "code",
   "execution_count": null,
   "metadata": {},
   "outputs": [],
   "source": [
    "# 4) Comentario: \n",
    "# Se observa que se pierden los picos, es decir, de alguna manera se suavizan los cisnes negros. Esto permite hacer un análisis más global a largo plazo.\n",
    "# COMPLETAR!!!!"
   ]
  }
 ],
 "metadata": {
  "kernelspec": {
   "display_name": "Python 3",
   "language": "python",
   "name": "python3"
  },
  "language_info": {
   "codemirror_mode": {
    "name": "ipython",
    "version": 3
   },
   "file_extension": ".py",
   "mimetype": "text/x-python",
   "name": "python",
   "nbconvert_exporter": "python",
   "pygments_lexer": "ipython3",
   "version": "3.6.13"
  }
 },
 "nbformat": 4,
 "nbformat_minor": 4
}
