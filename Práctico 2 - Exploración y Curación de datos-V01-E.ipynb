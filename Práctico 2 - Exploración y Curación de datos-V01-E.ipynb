{
 "cells": [
  {
   "cell_type": "markdown",
   "metadata": {},
   "source": [
    "# Análisis de índices y sectores\n",
    "\n",
    "Es posible resumir el rendimiento de distintos segmentos del mercado de acciones mediante la creación de **índices**: portafolios hipotéticos formados por una gran cantidad de activos. El cálculo del valor de los índices se calcula a partir de la evolución de los precios de sus constituyentes. Esto es muy útil para las personas que invierten, ya que les da una idea general de la *salud del mercado* y además permite hacer comparaciones con sus estrategias de inversión (está acción se denomina *benchmarking*).\n",
    "\n",
    "Los 3 índices de acciones de Estados Unidos más conocidos son:\n",
    "- Dow Jones Industrial Average (DJIA),\n",
    "- S&P 500 Index y\n",
    "- Nasdaq Composite Index.\n",
    "\n",
    "## El Índice S&P 500\n",
    "El *Standard and Poor's 500 Index* es un índice compuesto por las 500 empresas públicas con mayor capitalización de mercado de EE.UU. La capitalización de mercado (market cap) es el valor total de mercado que tienen la totalidad de las acciones de una compañía, lo que nos da una idea rápida del tamaño de la misma (solamente necesitamos multiplicar el valor de su acción por la cantidad de acciones existentes). En [este link](https://www.investopedia.com/top-10-s-and-p-500-stocks-by-index-weight-4843111) pueden ver cuáles son las 10 empresas top en el S&P500 al 4 de junio de 2021.\n",
    "\n",
    "No siempre es posible invertir directamente en un índice, pero existen numerosas compañías que crean Fondos de Inversión que se dedican a seguir estos índices y es posible que las personas inviertan en ellos. Este tipo de instrumentos es muy importante porque le permite a los pequeños inversores diversificar su cartera de inversiones sin tener una cantidad enorme de dinero para comprar acciones de todas las empresas que componen los índices. En EE.UU, estos tipos de fondos son llamados Exchange Traded Funds (ETFs) y son un poco similares a los Fondos Comunes de Inversión locales (FCI). El ETF más conocido para invertir en el S&P500 es el SPDR S&P 500 ETF (su ticker es **SPY**) y lo podemos seguir en nuestro DataReader."
   ]
  },
  {
   "cell_type": "code",
   "execution_count": 3,
   "metadata": {},
   "outputs": [],
   "source": [
    "import pandas as pd\n",
    "from pandas_datareader import data\n",
    "import matplotlib.pyplot as plt\n",
    "import yfinance as yf # Agrego esto # pip install yfinance --upgrade --no-cache-dir\n",
    "import numpy as np # Agrego esto\n",
    "import seaborn as sns"
   ]
  },
  {
   "cell_type": "code",
   "execution_count": 4,
   "metadata": {},
   "outputs": [
    {
     "name": "stdout",
     "output_type": "stream",
     "text": [
      "[*********************100%***********************]  1 of 1 completed\n"
     ]
    },
    {
     "data": {
      "text/html": [
       "<div>\n",
       "<style scoped>\n",
       "    .dataframe tbody tr th:only-of-type {\n",
       "        vertical-align: middle;\n",
       "    }\n",
       "\n",
       "    .dataframe tbody tr th {\n",
       "        vertical-align: top;\n",
       "    }\n",
       "\n",
       "    .dataframe thead th {\n",
       "        text-align: right;\n",
       "    }\n",
       "</style>\n",
       "<table border=\"1\" class=\"dataframe\">\n",
       "  <thead>\n",
       "    <tr style=\"text-align: right;\">\n",
       "      <th></th>\n",
       "      <th>Open</th>\n",
       "      <th>High</th>\n",
       "      <th>Low</th>\n",
       "      <th>Close</th>\n",
       "      <th>Adj Close</th>\n",
       "      <th>Volume</th>\n",
       "    </tr>\n",
       "    <tr>\n",
       "      <th>Date</th>\n",
       "      <th></th>\n",
       "      <th></th>\n",
       "      <th></th>\n",
       "      <th></th>\n",
       "      <th></th>\n",
       "      <th></th>\n",
       "    </tr>\n",
       "  </thead>\n",
       "  <tbody>\n",
       "    <tr>\n",
       "      <th>2020-01-02</th>\n",
       "      <td>323.540009</td>\n",
       "      <td>324.890015</td>\n",
       "      <td>322.529999</td>\n",
       "      <td>324.869995</td>\n",
       "      <td>316.836670</td>\n",
       "      <td>59151200</td>\n",
       "    </tr>\n",
       "    <tr>\n",
       "      <th>2020-01-03</th>\n",
       "      <td>321.160004</td>\n",
       "      <td>323.640015</td>\n",
       "      <td>321.100006</td>\n",
       "      <td>322.410004</td>\n",
       "      <td>314.437500</td>\n",
       "      <td>77709700</td>\n",
       "    </tr>\n",
       "    <tr>\n",
       "      <th>2020-01-06</th>\n",
       "      <td>320.489990</td>\n",
       "      <td>323.730011</td>\n",
       "      <td>320.359985</td>\n",
       "      <td>323.640015</td>\n",
       "      <td>315.637115</td>\n",
       "      <td>55653900</td>\n",
       "    </tr>\n",
       "    <tr>\n",
       "      <th>2020-01-07</th>\n",
       "      <td>323.019989</td>\n",
       "      <td>323.540009</td>\n",
       "      <td>322.239990</td>\n",
       "      <td>322.730011</td>\n",
       "      <td>314.749573</td>\n",
       "      <td>40496400</td>\n",
       "    </tr>\n",
       "    <tr>\n",
       "      <th>2020-01-08</th>\n",
       "      <td>322.940002</td>\n",
       "      <td>325.779999</td>\n",
       "      <td>322.670013</td>\n",
       "      <td>324.450012</td>\n",
       "      <td>316.427063</td>\n",
       "      <td>68296000</td>\n",
       "    </tr>\n",
       "    <tr>\n",
       "      <th>...</th>\n",
       "      <td>...</td>\n",
       "      <td>...</td>\n",
       "      <td>...</td>\n",
       "      <td>...</td>\n",
       "      <td>...</td>\n",
       "      <td>...</td>\n",
       "    </tr>\n",
       "    <tr>\n",
       "      <th>2020-12-23</th>\n",
       "      <td>368.279999</td>\n",
       "      <td>369.619995</td>\n",
       "      <td>367.220001</td>\n",
       "      <td>367.570007</td>\n",
       "      <td>365.175354</td>\n",
       "      <td>46201400</td>\n",
       "    </tr>\n",
       "    <tr>\n",
       "      <th>2020-12-24</th>\n",
       "      <td>368.079987</td>\n",
       "      <td>369.029999</td>\n",
       "      <td>367.450012</td>\n",
       "      <td>369.000000</td>\n",
       "      <td>366.596039</td>\n",
       "      <td>26457900</td>\n",
       "    </tr>\n",
       "    <tr>\n",
       "      <th>2020-12-28</th>\n",
       "      <td>371.739990</td>\n",
       "      <td>372.589996</td>\n",
       "      <td>371.070007</td>\n",
       "      <td>372.170013</td>\n",
       "      <td>369.745392</td>\n",
       "      <td>39000400</td>\n",
       "    </tr>\n",
       "    <tr>\n",
       "      <th>2020-12-29</th>\n",
       "      <td>373.809998</td>\n",
       "      <td>374.000000</td>\n",
       "      <td>370.829987</td>\n",
       "      <td>371.459991</td>\n",
       "      <td>369.040009</td>\n",
       "      <td>53680500</td>\n",
       "    </tr>\n",
       "    <tr>\n",
       "      <th>2020-12-30</th>\n",
       "      <td>372.339996</td>\n",
       "      <td>373.100006</td>\n",
       "      <td>371.570007</td>\n",
       "      <td>371.989990</td>\n",
       "      <td>369.566559</td>\n",
       "      <td>49455300</td>\n",
       "    </tr>\n",
       "  </tbody>\n",
       "</table>\n",
       "<p>252 rows × 6 columns</p>\n",
       "</div>"
      ],
      "text/plain": [
       "                  Open        High         Low       Close   Adj Close  \\\n",
       "Date                                                                     \n",
       "2020-01-02  323.540009  324.890015  322.529999  324.869995  316.836670   \n",
       "2020-01-03  321.160004  323.640015  321.100006  322.410004  314.437500   \n",
       "2020-01-06  320.489990  323.730011  320.359985  323.640015  315.637115   \n",
       "2020-01-07  323.019989  323.540009  322.239990  322.730011  314.749573   \n",
       "2020-01-08  322.940002  325.779999  322.670013  324.450012  316.427063   \n",
       "...                ...         ...         ...         ...         ...   \n",
       "2020-12-23  368.279999  369.619995  367.220001  367.570007  365.175354   \n",
       "2020-12-24  368.079987  369.029999  367.450012  369.000000  366.596039   \n",
       "2020-12-28  371.739990  372.589996  371.070007  372.170013  369.745392   \n",
       "2020-12-29  373.809998  374.000000  370.829987  371.459991  369.040009   \n",
       "2020-12-30  372.339996  373.100006  371.570007  371.989990  369.566559   \n",
       "\n",
       "              Volume  \n",
       "Date                  \n",
       "2020-01-02  59151200  \n",
       "2020-01-03  77709700  \n",
       "2020-01-06  55653900  \n",
       "2020-01-07  40496400  \n",
       "2020-01-08  68296000  \n",
       "...              ...  \n",
       "2020-12-23  46201400  \n",
       "2020-12-24  26457900  \n",
       "2020-12-28  39000400  \n",
       "2020-12-29  53680500  \n",
       "2020-12-30  49455300  \n",
       "\n",
       "[252 rows x 6 columns]"
      ]
     },
     "execution_count": 4,
     "metadata": {},
     "output_type": "execute_result"
    }
   ],
   "source": [
    "#------Desestimo lo de arriba porque no corre---------------\n",
    "# tickers = ['SPY']\n",
    "\n",
    "# start_date = '2000-01-01'\n",
    "# end_date = '2020-12-31'\n",
    "\n",
    "# data.DataReader(\n",
    "#     tickers,\n",
    "#     start=start_date, \n",
    "#     end=end_date, \n",
    "#     data_source='yahoo',\n",
    "# )[\"Adj Close\"].plot(figsize=(16,9))\n",
    "#------Desestimo lo de arriba porque no corre---------------\n",
    "\n",
    "yf.pdr_override()\n",
    "\n",
    "# download dataframe\n",
    "start_date = \"2020-01-01\"\n",
    "end_date = \"2020-12-31\"\n",
    "data_spy = data.get_data_yahoo(\"SPY\", start=start_date, end=end_date)\n",
    "# data_spy.head()\n",
    "# data_spy['Adj Close'].plot(figsize=(16,9))\n",
    "data_spy"
   ]
  },
  {
   "cell_type": "markdown",
   "metadata": {},
   "source": [
    "# Qué acciones componen actualmente al S&P500?\n",
    "\n",
    "Es posible conseguir la lista de constituyentes del S&P500 desde Wikipedia: https://en.wikipedia.org/wiki/List_of_S%26P_500_companies. Pero también podemos obtener esta tabla directamente con Pandas!"
   ]
  },
  {
   "cell_type": "code",
   "execution_count": 5,
   "metadata": {},
   "outputs": [
    {
     "data": {
      "text/html": [
       "<div>\n",
       "<style scoped>\n",
       "    .dataframe tbody tr th:only-of-type {\n",
       "        vertical-align: middle;\n",
       "    }\n",
       "\n",
       "    .dataframe tbody tr th {\n",
       "        vertical-align: top;\n",
       "    }\n",
       "\n",
       "    .dataframe thead th {\n",
       "        text-align: right;\n",
       "    }\n",
       "</style>\n",
       "<table border=\"1\" class=\"dataframe\">\n",
       "  <thead>\n",
       "    <tr style=\"text-align: right;\">\n",
       "      <th></th>\n",
       "      <th>Symbol</th>\n",
       "      <th>Security</th>\n",
       "      <th>SEC filings</th>\n",
       "      <th>GICS Sector</th>\n",
       "      <th>GICS Sub-Industry</th>\n",
       "      <th>Headquarters Location</th>\n",
       "      <th>Date first added</th>\n",
       "      <th>CIK</th>\n",
       "      <th>Founded</th>\n",
       "    </tr>\n",
       "  </thead>\n",
       "  <tbody>\n",
       "    <tr>\n",
       "      <th>0</th>\n",
       "      <td>MMM</td>\n",
       "      <td>3M</td>\n",
       "      <td>reports</td>\n",
       "      <td>Industrials</td>\n",
       "      <td>Industrial Conglomerates</td>\n",
       "      <td>Saint Paul, Minnesota</td>\n",
       "      <td>1976-08-09</td>\n",
       "      <td>66740</td>\n",
       "      <td>1902</td>\n",
       "    </tr>\n",
       "    <tr>\n",
       "      <th>1</th>\n",
       "      <td>ABT</td>\n",
       "      <td>Abbott Laboratories</td>\n",
       "      <td>reports</td>\n",
       "      <td>Health Care</td>\n",
       "      <td>Health Care Equipment</td>\n",
       "      <td>North Chicago, Illinois</td>\n",
       "      <td>1964-03-31</td>\n",
       "      <td>1800</td>\n",
       "      <td>1888</td>\n",
       "    </tr>\n",
       "    <tr>\n",
       "      <th>2</th>\n",
       "      <td>ABBV</td>\n",
       "      <td>AbbVie</td>\n",
       "      <td>reports</td>\n",
       "      <td>Health Care</td>\n",
       "      <td>Pharmaceuticals</td>\n",
       "      <td>North Chicago, Illinois</td>\n",
       "      <td>2012-12-31</td>\n",
       "      <td>1551152</td>\n",
       "      <td>2013 (1888)</td>\n",
       "    </tr>\n",
       "    <tr>\n",
       "      <th>3</th>\n",
       "      <td>ABMD</td>\n",
       "      <td>Abiomed</td>\n",
       "      <td>reports</td>\n",
       "      <td>Health Care</td>\n",
       "      <td>Health Care Equipment</td>\n",
       "      <td>Danvers, Massachusetts</td>\n",
       "      <td>2018-05-31</td>\n",
       "      <td>815094</td>\n",
       "      <td>1981</td>\n",
       "    </tr>\n",
       "    <tr>\n",
       "      <th>4</th>\n",
       "      <td>ACN</td>\n",
       "      <td>Accenture</td>\n",
       "      <td>reports</td>\n",
       "      <td>Information Technology</td>\n",
       "      <td>IT Consulting &amp; Other Services</td>\n",
       "      <td>Dublin, Ireland</td>\n",
       "      <td>2011-07-06</td>\n",
       "      <td>1467373</td>\n",
       "      <td>1989</td>\n",
       "    </tr>\n",
       "    <tr>\n",
       "      <th>...</th>\n",
       "      <td>...</td>\n",
       "      <td>...</td>\n",
       "      <td>...</td>\n",
       "      <td>...</td>\n",
       "      <td>...</td>\n",
       "      <td>...</td>\n",
       "      <td>...</td>\n",
       "      <td>...</td>\n",
       "      <td>...</td>\n",
       "    </tr>\n",
       "    <tr>\n",
       "      <th>500</th>\n",
       "      <td>YUM</td>\n",
       "      <td>Yum! Brands</td>\n",
       "      <td>reports</td>\n",
       "      <td>Consumer Discretionary</td>\n",
       "      <td>Restaurants</td>\n",
       "      <td>Louisville, Kentucky</td>\n",
       "      <td>1997-10-06</td>\n",
       "      <td>1041061</td>\n",
       "      <td>1997</td>\n",
       "    </tr>\n",
       "    <tr>\n",
       "      <th>501</th>\n",
       "      <td>ZBRA</td>\n",
       "      <td>Zebra Technologies</td>\n",
       "      <td>reports</td>\n",
       "      <td>Information Technology</td>\n",
       "      <td>Electronic Equipment &amp; Instruments</td>\n",
       "      <td>Lincolnshire, Illinois</td>\n",
       "      <td>2019-12-23</td>\n",
       "      <td>877212</td>\n",
       "      <td>1969</td>\n",
       "    </tr>\n",
       "    <tr>\n",
       "      <th>502</th>\n",
       "      <td>ZBH</td>\n",
       "      <td>Zimmer Biomet</td>\n",
       "      <td>reports</td>\n",
       "      <td>Health Care</td>\n",
       "      <td>Health Care Equipment</td>\n",
       "      <td>Warsaw, Indiana</td>\n",
       "      <td>2001-08-07</td>\n",
       "      <td>1136869</td>\n",
       "      <td>1927</td>\n",
       "    </tr>\n",
       "    <tr>\n",
       "      <th>503</th>\n",
       "      <td>ZION</td>\n",
       "      <td>Zions Bancorp</td>\n",
       "      <td>reports</td>\n",
       "      <td>Financials</td>\n",
       "      <td>Regional Banks</td>\n",
       "      <td>Salt Lake City, Utah</td>\n",
       "      <td>2001-06-22</td>\n",
       "      <td>109380</td>\n",
       "      <td>1873</td>\n",
       "    </tr>\n",
       "    <tr>\n",
       "      <th>504</th>\n",
       "      <td>ZTS</td>\n",
       "      <td>Zoetis</td>\n",
       "      <td>reports</td>\n",
       "      <td>Health Care</td>\n",
       "      <td>Pharmaceuticals</td>\n",
       "      <td>Parsippany, New Jersey</td>\n",
       "      <td>2013-06-21</td>\n",
       "      <td>1555280</td>\n",
       "      <td>1952</td>\n",
       "    </tr>\n",
       "  </tbody>\n",
       "</table>\n",
       "<p>505 rows × 9 columns</p>\n",
       "</div>"
      ],
      "text/plain": [
       "    Symbol             Security SEC filings             GICS Sector  \\\n",
       "0      MMM                   3M     reports             Industrials   \n",
       "1      ABT  Abbott Laboratories     reports             Health Care   \n",
       "2     ABBV               AbbVie     reports             Health Care   \n",
       "3     ABMD              Abiomed     reports             Health Care   \n",
       "4      ACN            Accenture     reports  Information Technology   \n",
       "..     ...                  ...         ...                     ...   \n",
       "500    YUM          Yum! Brands     reports  Consumer Discretionary   \n",
       "501   ZBRA   Zebra Technologies     reports  Information Technology   \n",
       "502    ZBH        Zimmer Biomet     reports             Health Care   \n",
       "503   ZION        Zions Bancorp     reports              Financials   \n",
       "504    ZTS               Zoetis     reports             Health Care   \n",
       "\n",
       "                      GICS Sub-Industry    Headquarters Location  \\\n",
       "0              Industrial Conglomerates    Saint Paul, Minnesota   \n",
       "1                 Health Care Equipment  North Chicago, Illinois   \n",
       "2                       Pharmaceuticals  North Chicago, Illinois   \n",
       "3                 Health Care Equipment   Danvers, Massachusetts   \n",
       "4        IT Consulting & Other Services          Dublin, Ireland   \n",
       "..                                  ...                      ...   \n",
       "500                         Restaurants     Louisville, Kentucky   \n",
       "501  Electronic Equipment & Instruments   Lincolnshire, Illinois   \n",
       "502               Health Care Equipment          Warsaw, Indiana   \n",
       "503                      Regional Banks     Salt Lake City, Utah   \n",
       "504                     Pharmaceuticals   Parsippany, New Jersey   \n",
       "\n",
       "    Date first added      CIK      Founded  \n",
       "0         1976-08-09    66740         1902  \n",
       "1         1964-03-31     1800         1888  \n",
       "2         2012-12-31  1551152  2013 (1888)  \n",
       "3         2018-05-31   815094         1981  \n",
       "4         2011-07-06  1467373         1989  \n",
       "..               ...      ...          ...  \n",
       "500       1997-10-06  1041061         1997  \n",
       "501       2019-12-23   877212         1969  \n",
       "502       2001-08-07  1136869         1927  \n",
       "503       2001-06-22   109380         1873  \n",
       "504       2013-06-21  1555280         1952  \n",
       "\n",
       "[505 rows x 9 columns]"
      ]
     },
     "execution_count": 5,
     "metadata": {},
     "output_type": "execute_result"
    }
   ],
   "source": [
    "# Podemos usar la función 'read_html' de Pandas, a la cual le mandamos nuestra URL y nos devuelve una lista de DataFrames que Pandas pudo rescatar desde la página.\n",
    "# Vamos a usarla para obtener nuestra lista de constituyentes.\n",
    "wiki = pd.read_html(\"https://en.wikipedia.org/wiki/List_of_S%26P_500_companies\")\n",
    "\n",
    "snp = wiki[0] # el primer DataFrame corresponde a los constituyentes del S&P500\n",
    "snp"
   ]
  },
  {
   "cell_type": "markdown",
   "metadata": {},
   "source": [
    "## Sectores\n",
    "Como se puede observar en la tabla, cada compañía que cotiza públicamente en la bolsa puede ser asignada a un sector e incluso a un subsector (GICS Sector, GICS Sub-Industry).\n",
    "\n",
    "### Ejercicios\n",
    "- Cuántos distintos sectores existen actualmente entre las empresas del S&P500? Cuántas acciones por sector hay?\n",
    "\n",
    "- Elijamos 3 sectores existentes y para cada uno de ellos, construyamos un índice con las compañías del S&P500 que pertenezcan a él y que el valor del mismo sea la suma de una acción de cada empresa del sector en el cierre ajustado (Adj Close).\n",
    "\n",
    "- Graficar todos estos índices en un mismo lugar, junto al S&P500, para todo lo que va del 2021. Es posible que haya que normalizarlos para poder comparar mejor su rendimiento, cómo podemos hacerlo? Podemos calcular su Sharpe Ratio?"
   ]
  },
  {
   "cell_type": "code",
   "execution_count": 6,
   "metadata": {},
   "outputs": [
    {
     "name": "stdout",
     "output_type": "stream",
     "text": [
      "Cantidad de sectores únicos:  11\n",
      "Cantidad de acciones por sector:  Industrials               74\n",
      "Information Technology    74\n",
      "Financials                65\n",
      "Health Care               64\n",
      "Consumer Discretionary    63\n",
      "Consumer Staples          32\n",
      "Real Estate               29\n",
      "Utilities                 28\n",
      "Materials                 28\n",
      "Communication Services    26\n",
      "Energy                    22\n",
      "Name: GICS Sector, dtype: int64\n"
     ]
    }
   ],
   "source": [
    "# 1) Análisis de sectores\n",
    "n_sect = snp['GICS Sector'].unique().shape # cantidad de sectores únicos\n",
    "acciones_sect = snp['GICS Sector'].value_counts() # cantidad de acciones por sector\n",
    "\n",
    "print('Cantidad de sectores únicos: ', n_sect[0])\n",
    "print('Cantidad de acciones por sector: ', acciones_sect)"
   ]
  },
  {
   "cell_type": "code",
   "execution_count": 7,
   "metadata": {},
   "outputs": [],
   "source": [
    "# 2) Creación nuevo índice\n",
    "\n",
    "sect_elegidos = ['Industrials', 'Financials', 'Energy']\n",
    "snp_elegidos = snp.loc[snp['GICS Sector'].isin(sect_elegidos)]\n",
    "# snp_elegidos['GICS Sector'].unique().shape # Verifica que las compañías elegidas provengan de sólo estos 3 sectores\n",
    "n_elegidos = snp_elegidos.shape[0] # Cantidad de empresas en los sectores elegidos\n",
    "comp_elegidas = list(snp_elegidos['Security']) # Lista de compañías elegidas\n",
    "tickers_comp_elegidas = list(snp_elegidos['Symbol']) # Símbolo de compaías elegidas\n"
   ]
  },
  {
   "cell_type": "code",
   "execution_count": 8,
   "metadata": {
    "tags": []
   },
   "outputs": [
    {
     "name": "stdout",
     "output_type": "stream",
     "text": [
      "30\n",
      "Datos no disponibles:  ['BRK.B']\n"
     ]
    },
    {
     "data": {
      "text/plain": [
       "53"
      ]
     },
     "execution_count": 8,
     "metadata": {},
     "output_type": "execute_result"
    }
   ],
   "source": [
    "from IPython.display import clear_output # Borra el printscreen en cada iteración\n",
    "\n",
    "start_date = \"2020-01-01\"\n",
    "end_date = \"2020-12-31\"\n",
    "\n",
    "# tickers_comp_elegidas = ['MMM', 'ABT', 'ABBV', 'BF.B'] # PRUEBA DE JUGUETE! el que vale es el de la celda anterior\n",
    "tickers_comp_elegidas = tickers_comp_elegidas[:30] # PRUEBA DE JUGUETE! el que vale es el de la celda anterior\n",
    "\n",
    "data_no_disp = []\n",
    "suma_adj_close = 0\n",
    "i = 0\n",
    "\n",
    "for ticker in tickers_comp_elegidas:\n",
    "    data_ticker = data.get_data_yahoo(ticker, start=start_date, end=end_date)\n",
    "#     print(data_ticker.shape) # Se observan que los data_ticker tienen tamaños diferentes en algunos casos\n",
    "    if data_ticker.empty: # Chequeo que el df no esté vacío\n",
    "        data_no_disp.append(ticker)\n",
    "    else:\n",
    "        suma_adj_close = data_ticker['Adj Close'] + suma_adj_close # Consulta: la suma la hace automáticamente coincidiendo fechas o hay que verificar esto por aparte?\n",
    "    clear_output(wait=True) # Borra el printscreen en cada iteración\n",
    "    data_ticker = [] # Reinicio variable\n",
    "    i += 1 # Control de cantidad de evaluaciones\n",
    "\n",
    "print(i)\n",
    "print(\"Datos no disponibles: \", data_no_disp)\n",
    "\n",
    "new_index = pd.DataFrame({'Date':suma_adj_close.index, 'Adj Close':suma_adj_close.values}) # Convierte Series a DataFrame\n",
    "new_index.head()\n",
    "new_index['Adj Close'].isnull().sum() # Compruebo existencia de NaN. Estos serán imputados de alguna manera"
   ]
  },
  {
   "cell_type": "code",
   "execution_count": 9,
   "metadata": {},
   "outputs": [
    {
     "data": {
      "text/plain": [
       "0"
      ]
     },
     "execution_count": 9,
     "metadata": {},
     "output_type": "execute_result"
    },
    {
     "data": {
      "image/png": "[encoded data removed]",
      "text/plain": [
       "<Figure size 1152x648 with 1 Axes>"
      ]
     },
     "metadata": {
      "needs_background": "light"
     },
     "output_type": "display_data"
    }
   ],
   "source": [
    "# Imputación de valores\n",
    "'''\n",
    "Se escoge como método de imputación a la asignación por vecinos más cercanos (KNNImputer).\n",
    "\n",
    "'''\n",
    "from sklearn.impute import KNNImputer\n",
    "\n",
    "new_index_imp = new_index.copy(deep=True)\n",
    "\n",
    "imputer = KNNImputer(n_neighbors=3)\n",
    "new_index_imp[['Adj Close']] = imputer.fit_transform(new_index_imp[['Adj Close']])\n",
    "new_index_imp['Adj Close'].isnull().sum() # Compruebo existencia de NaN. Estos serán imputados de alguna manera\n",
    "\n",
    "new_index_imp['Adj Close'].plot(figsize=(16,9))\n",
    "new_index['Adj Close'].plot(figsize=(16,9))\n",
    "\n",
    "'''\n",
    "Luego de hacer la prueba de imputación, se observa que los valores faltantes corresponden a períodos considerables\n",
    "de tiempo y que incluso se encuentran continuados. Es por eso que la información que se pudiera imputar no se \n",
    "estima adecuada. Se decide no realizar imputación de valores, sino que directamente se eliminarán los valores\n",
    "faltantes para evitar usar datos que lleven a conclusiones erradas. Incluso pensar en otro método de imputación,\n",
    "no llevará a resultados mejores.\n",
    "La premisa es: trabajar con los datos fieles disponibles.\n",
    "'''\n",
    "\n",
    "new_index.dropna(inplace=True)\n",
    "new_index_imp['Adj Close'].isnull().sum() # Compruebo existencia de NaN. Estos serán imputados de alguna manera"
   ]
  },
  {
   "cell_type": "code",
   "execution_count": 10,
   "metadata": {},
   "outputs": [
    {
     "data": {
      "text/html": [
       "<div>\n",
       "<style scoped>\n",
       "    .dataframe tbody tr th:only-of-type {\n",
       "        vertical-align: middle;\n",
       "    }\n",
       "\n",
       "    .dataframe tbody tr th {\n",
       "        vertical-align: top;\n",
       "    }\n",
       "\n",
       "    .dataframe thead th {\n",
       "        text-align: right;\n",
       "    }\n",
       "</style>\n",
       "<table border=\"1\" class=\"dataframe\">\n",
       "  <thead>\n",
       "    <tr style=\"text-align: right;\">\n",
       "      <th></th>\n",
       "      <th>Date</th>\n",
       "      <th>Open</th>\n",
       "      <th>High</th>\n",
       "      <th>Low</th>\n",
       "      <th>Close</th>\n",
       "      <th>Adj Close</th>\n",
       "      <th>Volume</th>\n",
       "    </tr>\n",
       "  </thead>\n",
       "  <tbody>\n",
       "    <tr>\n",
       "      <th>0</th>\n",
       "      <td>2020-01-02</td>\n",
       "      <td>323.540009</td>\n",
       "      <td>324.890015</td>\n",
       "      <td>322.529999</td>\n",
       "      <td>324.869995</td>\n",
       "      <td>316.836670</td>\n",
       "      <td>59151200</td>\n",
       "    </tr>\n",
       "    <tr>\n",
       "      <th>1</th>\n",
       "      <td>2020-01-03</td>\n",
       "      <td>321.160004</td>\n",
       "      <td>323.640015</td>\n",
       "      <td>321.100006</td>\n",
       "      <td>322.410004</td>\n",
       "      <td>314.437500</td>\n",
       "      <td>77709700</td>\n",
       "    </tr>\n",
       "    <tr>\n",
       "      <th>2</th>\n",
       "      <td>2020-01-06</td>\n",
       "      <td>320.489990</td>\n",
       "      <td>323.730011</td>\n",
       "      <td>320.359985</td>\n",
       "      <td>323.640015</td>\n",
       "      <td>315.637115</td>\n",
       "      <td>55653900</td>\n",
       "    </tr>\n",
       "  </tbody>\n",
       "</table>\n",
       "</div>"
      ],
      "text/plain": [
       "        Date        Open        High         Low       Close   Adj Close  \\\n",
       "0 2020-01-02  323.540009  324.890015  322.529999  324.869995  316.836670   \n",
       "1 2020-01-03  321.160004  323.640015  321.100006  322.410004  314.437500   \n",
       "2 2020-01-06  320.489990  323.730011  320.359985  323.640015  315.637115   \n",
       "\n",
       "     Volume  \n",
       "0  59151200  \n",
       "1  77709700  \n",
       "2  55653900  "
      ]
     },
     "execution_count": 10,
     "metadata": {},
     "output_type": "execute_result"
    }
   ],
   "source": [
    "# Preparación de df para graficación\n",
    "data_spy.reset_index(level='Date', inplace=True) # Reseteo MultiIndex (Date en este caso y la guardaré como columna)\n",
    "data_spy.set_index('Date') # Indico que el index será 'Date'\n",
    "data_spy.head(3)\n"
   ]
  },
  {
   "cell_type": "code",
   "execution_count": 11,
   "metadata": {},
   "outputs": [
    {
     "data": {
      "text/html": [
       "<div>\n",
       "<style scoped>\n",
       "    .dataframe tbody tr th:only-of-type {\n",
       "        vertical-align: middle;\n",
       "    }\n",
       "\n",
       "    .dataframe tbody tr th {\n",
       "        vertical-align: top;\n",
       "    }\n",
       "\n",
       "    .dataframe thead th {\n",
       "        text-align: right;\n",
       "    }\n",
       "</style>\n",
       "<table border=\"1\" class=\"dataframe\">\n",
       "  <thead>\n",
       "    <tr style=\"text-align: right;\">\n",
       "      <th></th>\n",
       "      <th>Date</th>\n",
       "      <th>Adj Close</th>\n",
       "    </tr>\n",
       "  </thead>\n",
       "  <tbody>\n",
       "    <tr>\n",
       "      <th>53</th>\n",
       "      <td>2020-03-19</td>\n",
       "      <td>-2.407478</td>\n",
       "    </tr>\n",
       "    <tr>\n",
       "      <th>54</th>\n",
       "      <td>2020-03-20</td>\n",
       "      <td>-2.690661</td>\n",
       "    </tr>\n",
       "    <tr>\n",
       "      <th>55</th>\n",
       "      <td>2020-03-23</td>\n",
       "      <td>-2.941887</td>\n",
       "    </tr>\n",
       "    <tr>\n",
       "      <th>56</th>\n",
       "      <td>2020-03-24</td>\n",
       "      <td>-2.199646</td>\n",
       "    </tr>\n",
       "    <tr>\n",
       "      <th>57</th>\n",
       "      <td>2020-03-25</td>\n",
       "      <td>-1.864387</td>\n",
       "    </tr>\n",
       "  </tbody>\n",
       "</table>\n",
       "</div>"
      ],
      "text/plain": [
       "         Date  Adj Close\n",
       "53 2020-03-19  -2.407478\n",
       "54 2020-03-20  -2.690661\n",
       "55 2020-03-23  -2.941887\n",
       "56 2020-03-24  -2.199646\n",
       "57 2020-03-25  -1.864387"
      ]
     },
     "execution_count": 11,
     "metadata": {},
     "output_type": "execute_result"
    }
   ],
   "source": [
    "# Estandarización para comparación (Dejamos el término normalizar para conversión a distribución con dicho nombre)\n",
    "'''\n",
    "Como el nuevo índice es una suma de todas los precios del cierre ajustado de las acciones de las compañías filtradas por sector,\n",
    "este valor puede ser de orden diferente a los valores del ticker 'SPY'. Es por eso que se hace este procedimiento\n",
    "a fin de poder comparar sus comportamientos.\n",
    "'''\n",
    "from sklearn.preprocessing import StandardScaler\n",
    "\n",
    "data_spy_scl = data_spy.copy(deep=True)\n",
    "new_index_scl = new_index.copy(deep=True)\n",
    "\n",
    "scaler=StandardScaler()\n",
    "data_spy_scl['Adj Close'] = scaler.fit_transform(np.array(data_spy_scl['Adj Close'].values.tolist()).reshape(-1, 1))  # StandarScaler requiere matrix 2D. Cómo se tiene es un vector de Series (1D), lo paso a array y hago reshape\n",
    "new_index_scl['Adj Close'] = scaler.fit_transform(np.array(new_index_scl['Adj Close'].values.tolist()).reshape(-1, 1)) \n",
    "new_index_scl.head()"
   ]
  },
  {
   "cell_type": "code",
   "execution_count": 12,
   "metadata": {},
   "outputs": [
    {
     "data": {
      "image/png": "[encoded data removed]",
      "text/plain": [
       "<Figure size 432x288 with 1 Axes>"
      ]
     },
     "metadata": {
      "needs_background": "light"
     },
     "output_type": "display_data"
    }
   ],
   "source": [
    "# 3) Gráficación \n",
    "\n",
    "# data_spy['Adj Close'].plot(figsize=(16,9))\n",
    "# new_index['Adj Close'].plot(figsize=(16,9))\n",
    "\n",
    "# Gráfico de Variación de Cierre Ajustado\n",
    "plt.plot('Date', 'Adj Close', data=data_spy_scl, label='SPY')\n",
    "plt.plot('Date', 'Adj Close', data=new_index_scl, label='SP500NEW')\n",
    "plt.legend()\n",
    "plt.xlabel('Fecha')\n",
    "plt.ylabel('Adj Close')\n",
    "plt.show()\n"
   ]
  },
  {
   "cell_type": "code",
   "execution_count": 13,
   "metadata": {},
   "outputs": [
    {
     "name": "stdout",
     "output_type": "stream",
     "text": [
      "Rendimiento data_spy:  315.7585730779739\n",
      "Rendimiento new_index:  2753.0180983387645\n"
     ]
    },
    {
     "data": {
      "image/png": "[encoded data removed]",
      "text/plain": [
       "<Figure size 432x288 with 1 Axes>"
      ]
     },
     "metadata": {
      "needs_background": "light"
     },
     "output_type": "display_data"
    }
   ],
   "source": [
    "# Determinación del rendimiento para cada índice (trabajo sobre df original)\n",
    "\n",
    "rend_data_spy = data_spy['Adj Close'].mean()\n",
    "rend_new_index = new_index['Adj Close'].mean()\n",
    "print(\"Rendimiento data_spy: \", rend_data_spy)\n",
    "print(\"Rendimiento new_index: \", rend_new_index)\n",
    "\n",
    "# Determinación del SharpeRatio (trabajo sobre df original)\n",
    "ventana = 7\n",
    "\n",
    "data_spy['Roll_Mean'] = data_spy['Adj Close'].rolling(ventana).mean()\n",
    "data_spy['Roll_Std'] = data_spy['Adj Close'].rolling(ventana).std()\n",
    "data_spy['SharpeRatio'] = data_spy['Roll_Mean'] / data_spy['Roll_Std']\n",
    "\n",
    "new_index['Roll_Mean'] = new_index['Adj Close'].rolling(ventana).mean()\n",
    "new_index['Roll_Std'] = new_index['Adj Close'].rolling(ventana).std()\n",
    "new_index['SharpeRatio'] = new_index['Roll_Mean'] / new_index['Roll_Std'] \n",
    "\n",
    "# ax = sns.scatterplot(data=data_spy, x='Roll_Mean', y='Roll_Std', hue='SharpeRatio')\n",
    "ax = sns.scatterplot(data=new_index, x='Roll_Mean', y='Roll_Std', hue='SharpeRatio')"
   ]
  },
  {
   "cell_type": "markdown",
   "metadata": {},
   "source": [
    "## Cisnes Negros\n",
    "\n",
    "Un Cisne Negro (Black Swan) es un evento impredecible que trae consecuencias potencialmente muy severas. Estos eventos tienen como características principales su extrema rareza, impacto severo y la idea de que, mirando al pasado, era obvio que iban a ocurrir.\n",
    "\n",
    "Un ejemplo famoso de cisne negro en el mercado estadounidense fue la \"Burbuja de las DotCom\": Una rápida subida de valor en las acciones de las empresas de base tecnológica hizo que el índice Nasdaq subiera su valor de 1000 a más de 5000 en un período de 5 años (1995-2000). En 2001, el índice tardó aproximadamente 7 meses en bajar un 76%, volviendo a una valoración de 1136, con pérdidas del 80% del valor en casos como los de Cisco, Intel y Oracle. El índice tardó luego 15 años en volver al valor de finales del 2000. Para más información, se puede visitar el [siguiente link](https://www.investopedia.com/terms/d/dotcom-bubble.asp).\n",
    "\n",
    "Para identificar cisnes negros en el mercado financiero, podemos usar los retornos diarios de las acciones y ajustar una distribución de probabilidad normal sobre los mismos. Aquellos retornos que estén por encima o por debajo de 3 o más desviaciones estándar pueden ser considerados cisnes negros.\n",
    "\n",
    "### Ejercicios\n",
    "- Cuántos de estos eventos existieron en el S&P500 desde el año 2000 hasta la fecha y cuándo ocurrieron esos eventos? Es posible encontrar algunas noticias relacionadas con esas fechas?\n",
    "\n",
    "- Supongamos que invertimos U$D 1.000 en el SPY a comienzos del 2000 y que además teníamos una bola de cristal, pudiendo dejar de invertir nuestro dinero justo el día anterior a un cisne negro y reinvertirlo el día después. Cuánto dinero tendríamos hoy?\n"
   ]
  },
  {
   "cell_type": "code",
   "execution_count": 14,
   "metadata": {},
   "outputs": [
    {
     "data": {
      "image/png": "[encoded data removed]",
      "text/plain": [
       "<Figure size 432x288 with 1 Axes>"
      ]
     },
     "metadata": {
      "needs_background": "light"
     },
     "output_type": "display_data"
    },
    {
     "data": {
      "image/png": "[encoded data removed]",
      "text/plain": [
       "<Figure size 360x360 with 1 Axes>"
      ]
     },
     "metadata": {
      "needs_background": "light"
     },
     "output_type": "display_data"
    },
    {
     "data": {
      "image/png": "[encoded data removed]",
      "text/plain": [
       "<Figure size 360x360 with 1 Axes>"
      ]
     },
     "metadata": {
      "needs_background": "light"
     },
     "output_type": "display_data"
    }
   ],
   "source": [
    "# 1) Detección de eventos\n",
    "\n",
    "# Determinación de retornos (sobre Adj Close)\n",
    "\n",
    "data_spy['Retornos'] = data_spy['Adj Close'].pct_change()*100\n",
    "new_index['Retornos'] = new_index['Adj Close'].pct_change()*100\n",
    "\n",
    "# Gráfico de retornos diarios\n",
    "plt.plot('Date', 'Retornos', data=data_spy, label='SPY')\n",
    "plt.plot('Date', 'Retornos', data=new_index, label='SP500NEW')\n",
    "plt.legend()\n",
    "plt.xlabel('Fecha')\n",
    "plt.ylabel('Retorno')\n",
    "plt.show()\n",
    "\n",
    "ax = sns.displot(data=data_spy, x='Retornos', kde=True, color='blue')\n",
    "ax = sns.displot(data=new_index, x='Retornos', kde=True, color='orange')"
   ]
  },
  {
   "cell_type": "code",
   "execution_count": 15,
   "metadata": {},
   "outputs": [
    {
     "name": "stdout",
     "output_type": "stream",
     "text": [
      "mu= 0.08376858699010985 std= 2.1072125919154465\n",
      "(252, 11) (246, 11)\n",
      "Cantidad Eventos:  6\n",
      "Fechas Eventos:  45   2020-03-09\n",
      "48   2020-03-12\n",
      "49   2020-03-13\n",
      "50   2020-03-16\n",
      "56   2020-03-24\n",
      "65   2020-04-06\n",
      "Name: Date, dtype: datetime64[ns]\n",
      "Valores BS:  45    -7.809445\n",
      "48    -9.567725\n",
      "49     8.548644\n",
      "50   -10.942384\n",
      "56     9.060321\n",
      "65     6.716612\n",
      "Name: Retornos, dtype: float64\n"
     ]
    },
    {
     "data": {
      "image/png": "[encoded data removed]",
      "text/plain": [
       "<Figure size 432x288 with 1 Axes>"
      ]
     },
     "metadata": {
      "needs_background": "light"
     },
     "output_type": "display_data"
    }
   ],
   "source": [
    "# ANALISIS PARA SPY\n",
    "\n",
    "# Ajuste de una función de densidad de probabilidad normal (¿se asemeja? podría hacer test: Shapiro-Wilk, K^2 de D’Agostino)\n",
    "from scipy.stats import norm\n",
    "\n",
    "mu, std = norm.fit(data_spy['Retornos'].dropna()) # Agrego dropna porque sino me tira error. Este paso es lo mismo que hacer: data_spy['Retornos'].mean() y data_spy['Retornos'].std()\n",
    "print(\"mu=\", mu, \"std=\", std)\n",
    "\n",
    "# Histograma\n",
    "plt.hist(data_spy['Retornos'], bins=25, density=True, alpha=0.5, color='b')\n",
    "\n",
    "xmin, xmax = plt.xlim()\n",
    "x = np.linspace(xmin, xmax, 100)\n",
    "p = norm.pdf(x, mu, std) # Ajuste de PDF\n",
    "plt.plot(x, p, 'k', linewidth=2)\n",
    "\n",
    "# Eventos (Black Swans)\n",
    "umbral = mu + 3*std\n",
    "posicion = abs(data_spy['Retornos']) > umbral\n",
    "cantidad_bs = data_spy[posicion]['Retornos'].count()\n",
    "fechas_bs = data_spy[posicion]['Date']\n",
    "valores_bs = data_spy[posicion]['Retornos']\n",
    "\n",
    "# Df sin Black Swans\n",
    "data_spy_clean = data_spy.copy(deep=True)\n",
    "data_spy_clean = data_spy_clean.loc[~posicion] # Tomo las entradas donde no ocurren eventos [~posicion]\n",
    "\n",
    "print(data_spy.shape, data_spy_clean.shape)\n",
    "\n",
    "print(\"Cantidad Eventos: \", cantidad_bs)\n",
    "print(\"Fechas Eventos: \", fechas_bs)\n",
    "print(\"Valores BS: \", valores_bs)\n",
    "\n",
    "# Pendiente: Buscar noticias para estas fechas"
   ]
  },
  {
   "cell_type": "code",
   "execution_count": 16,
   "metadata": {
    "tags": []
   },
   "outputs": [
    {
     "name": "stdout",
     "output_type": "stream",
     "text": [
      "Resultado:  -1.910476140922317\n",
      "Resultado:  -1.910476140922317\n"
     ]
    }
   ],
   "source": [
    "# 2) Simulación de resultados en el período con y sin Black Swans\n",
    "\n",
    "# CREO UN FUNCION PARA CALCULO DE RESULTADO\n",
    "# ---------------------------------------------------------------------------------------\n",
    "def resultado(inversion, valores, pct_change=False):\n",
    "    '''\n",
    "    Entrada: - inversion: [number] monto de inversión inicial.\n",
    "             - valores: [pandas.DataFrame] valores del índice por día no preprocesado (por ejemplo: 'Adj Close')\n",
    "                        o ya procesado con pct_change. Cuidado de introducir en este caso valores unitarios, no porcentuales.\n",
    "             - pct_change: [bool] Indica si quiere procesar \"valores\" con pct_change. Por defecto: False\n",
    "    Salida: - resultado de la inversión en el período.\n",
    "    '''\n",
    "    if pct_change:\n",
    "        incrementos = valores.pct_change() # Con esto anda bien el cálculo del resultado neto\n",
    "##      incrementos = valores.diff() / abs(valores.shift()) # No funciona bien con esto\n",
    "    else:\n",
    "        incrementos = valores\n",
    "    \n",
    "    n = incrementos.shape[0]\n",
    "    \n",
    "    for i in range(1, n): # Pensar este loop para vectorizar...\n",
    "        neto = valores.iloc[i-1] + incrementos.iloc[i]*valores.iloc[i-1] # valor_anterior + incremento_actual * valor_anterior\n",
    "    \n",
    "    return print(\"Resultado: \", inversion*neto)\n",
    "# ---------------------------------------------------------------------------------------\n",
    "\n",
    "inversion_inicial = 1000\n",
    "\n",
    "# Resultado sin filtrar Black Swans\n",
    "resultado_data_spy = resultado(inversion_inicial, data_spy['Retornos']/100, pct_change=False) # División por 100 para asignar valores unitarios\n",
    "\n",
    "# Resultado filtrando Black Swans\n",
    "resultado_data_spy_clean = resultado(inversion_inicial, data_spy_clean['Retornos']/100, pct_change=False) # División por 100 para asignar valores unitarios\n",
    "\n",
    "# CONSULTA: POR QUÉ DA EL MISMO RESULTADO????? VARIARIA MUY POCO????"
   ]
  },
  {
   "cell_type": "code",
   "execution_count": null,
   "metadata": {
    "tags": []
   },
   "outputs": [],
   "source": [
    "# BORRAR! ANALISIS DE pct_change vs funcion propia\n",
    "ind = pd.date_range('01/01/2000', periods = 8, freq ='W')\n",
    "df = pd.DataFrame({\"\":[1,2,1,3,-2,-1,-1,2]}, index = ind)\n",
    "# df1 = df.pct_change()*100\n",
    "# df1\n",
    "# df2 = df.diff() / abs(df.shift())*100\n",
    "# df2"
   ]
  },
  {
   "cell_type": "code",
   "execution_count": null,
   "metadata": {},
   "outputs": [],
   "source": [
    "# ANALISIS PARA NEW_INDEX\n",
    "\n",
    "# Ajuste de una función de densidad de probabilidad normal (¿se asemeja? podría hacer test: Shapiro-Wilk, K^2 de D’Agostino)\n",
    "\n",
    "mu, std = norm.fit(new_index['Retornos'].dropna()) # Agrego dropna porque sino me tira error. Este paso es lo mismo que hacer: data_spy['Retornos'].mean() y data_spy['Retornos'].std()\n",
    "print(\"mu=\", mu, \"std=\", std)\n",
    "\n",
    "# Histograma\n",
    "plt.hist(new_index['Retornos'], bins=25, density=True, alpha=0.5, color='g')\n",
    "\n",
    "xmin, xmax = plt.xlim()\n",
    "x = np.linspace(xmin, xmax, 100)\n",
    "p = norm.pdf(x, mu, std) # Ajuste de PDF\n",
    "plt.plot(x, p, 'k', linewidth=2)\n",
    "\n",
    "\n",
    "# Eventos (Black Swans)\n",
    "umbral = mu + 3*std\n",
    "cantidad_bs = new_index[abs(new_index['Retornos']) > umbral]['Retornos'].count()\n",
    "fechas_bs = new_index[abs(new_index['Retornos']) > umbral]['Date']\n",
    "\n",
    "print(\"Cantidad Eventos= \", cantidad_bs)\n",
    "print(\"Fechas Eventos= \", fechas_bs)\n",
    "\n",
    "# Pendiente: Buscar noticias para estas fechas"
   ]
  },
  {
   "cell_type": "code",
   "execution_count": null,
   "metadata": {},
   "outputs": [],
   "source": [
    "# 2) Simulación de resultados en el período con y sin Black Swans\n",
    "\n",
    "# PENDIENTE! AUNQUE NO LO PIDE EL ENUNCIADO"
   ]
  },
  {
   "cell_type": "markdown",
   "metadata": {},
   "source": [
    "## Cómo se generan los precios diarios?\n",
    "\n",
    "Si bien los precios con los que estamos trabajando ahora no parecen ser un volumen muy grande de datos, los mismos son resúmenes generados a partir de datos de transacciones de mercado en tiempo real todos los días, para todos los activos financieros. FINRA cuenta un poco cómo es el proceso del punto de vista del gran volumen manejado en [este link](https://technology.finra.org/articles/how-finra-processes-75-billion-market-events-daily.html).\n",
    "\n",
    "Por lo general, los mercados de acciones permanecen abiertos durante los días hábiles desde aprox. las 11hs hasta las 17hs y durante todo ese período, para todo activo, se realizan ofertas de compra y venta de los mismos, que se van organizando automáticamente en un libro de órdenes como el de la imagen de abajo.\n",
    "\n",
    "![order_book](https://wp.fxssi.com/wp-content/uploads/2019/04/en_post-images.jpg)\n",
    "\n",
    "Básicamente, para cada activo, se listan todas las ofertas de compra y venta y se realiza una operación exitosamente cuando coinciden los precios."
   ]
  },
  {
   "cell_type": "code",
   "execution_count": null,
   "metadata": {},
   "outputs": [],
   "source": []
  },
  {
   "cell_type": "markdown",
   "metadata": {},
   "source": [
    "## Timeframes"
   ]
  },
  {
   "cell_type": "markdown",
   "metadata": {},
   "source": [
    "Cómo vimos en el primer práctico y en sus correcciones, es muy importante establer un marco temporal de análisis que sea consistente con la estrategia de inversión.\n",
    "\n",
    "Para algotrading un timeframe apropiado será el análisis de milisegundos, y para una estrategia de largo plazo el análisis puede ser mensual. "
   ]
  },
  {
   "cell_type": "markdown",
   "metadata": {},
   "source": [
    "### Ejercicios"
   ]
  },
  {
   "cell_type": "markdown",
   "metadata": {},
   "source": [
    "- Transformar los índices realizados en el ejercicio anterior a timeframes mensuales. \n",
    "\n",
    "- Para ello en cada fila de datos considerar el Open, Close, High y Low de cada mes. \n",
    "\n",
    "- Graficar los cierres ajustados de estas nuevas series contrastandolas contra las series diarias. \n",
    "\n",
    "- Comentar: ¿Qué información se gana y se pierde con este cambio? ¿Cuándo se imaginan que puede ser útil tomar esta perspectiva?"
   ]
  },
  {
   "cell_type": "code",
   "execution_count": null,
   "metadata": {},
   "outputs": [],
   "source": []
  }
 ],
 "metadata": {
  "kernelspec": {
   "display_name": "Python 3",
   "language": "python",
   "name": "python3"
  },
  "language_info": {
   "codemirror_mode": {
    "name": "ipython",
    "version": 3
   },
   "file_extension": ".py",
   "mimetype": "text/x-python",
   "name": "python",
   "nbconvert_exporter": "python",
   "pygments_lexer": "ipython3",
   "version": "3.6.13"
  }
 },
 "nbformat": 4,
 "nbformat_minor": 4
}
